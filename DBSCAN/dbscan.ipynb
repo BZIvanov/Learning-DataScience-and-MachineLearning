{
 "cells": [
  {
   "cell_type": "markdown",
   "id": "8e158548",
   "metadata": {},
   "source": [
    "# DBSCAN - Density-based spatial clustering of applications with noise"
   ]
  },
  {
   "cell_type": "markdown",
   "id": "406c4ec2",
   "metadata": {},
   "source": [
    "Below we will illustrate examples where DBSCAN can do better job in clustering than K-means. This is because for some type of data patterns we need to use the appropriate clustering model."
   ]
  },
  {
   "cell_type": "code",
   "execution_count": null,
   "id": "b9f43f42",
   "metadata": {},
   "outputs": [],
   "source": [
    "import numpy as np\n",
    "import pandas as pd\n",
    "import matplotlib.pyplot as plt\n",
    "import seaborn as sns"
   ]
  },
  {
   "cell_type": "markdown",
   "id": "75cf428e",
   "metadata": {},
   "source": [
    "## Data exploration"
   ]
  },
  {
   "cell_type": "code",
   "execution_count": null,
   "id": "eb7e7a04",
   "metadata": {},
   "outputs": [],
   "source": [
    "blobs = pd.read_csv('blobs.csv')\n",
    "blobs.head()"
   ]
  },
  {
   "cell_type": "code",
   "execution_count": null,
   "id": "d3fff363",
   "metadata": {},
   "outputs": [],
   "source": [
    "sns.scatterplot(data=blobs, x='X1', y='X2')"
   ]
  },
  {
   "cell_type": "code",
   "execution_count": null,
   "id": "dfad1511",
   "metadata": {},
   "outputs": [],
   "source": [
    "moons = pd.read_csv('moons.csv')\n",
    "moons.head()"
   ]
  },
  {
   "cell_type": "code",
   "execution_count": null,
   "id": "ed1be2ac",
   "metadata": {},
   "outputs": [],
   "source": [
    "sns.scatterplot(data=moons, x='X1', y='X2')"
   ]
  },
  {
   "cell_type": "code",
   "execution_count": null,
   "id": "ca91de94",
   "metadata": {},
   "outputs": [],
   "source": [
    "circles = pd.read_csv('circles.csv')\n",
    "circles.head()"
   ]
  },
  {
   "cell_type": "code",
   "execution_count": null,
   "id": "9ba0aa25",
   "metadata": {},
   "outputs": [],
   "source": [
    "sns.scatterplot(data=circles,x='X1',y='X2')"
   ]
  },
  {
   "cell_type": "markdown",
   "id": "210222fe",
   "metadata": {},
   "source": [
    "## K-means vs DBSCAN"
   ]
  },
  {
   "cell_type": "markdown",
   "id": "5715ae90",
   "metadata": {},
   "source": [
    "Here is some utility function to plot the examples"
   ]
  },
  {
   "cell_type": "code",
   "execution_count": null,
   "id": "5ada3d37",
   "metadata": {},
   "outputs": [],
   "source": [
    "def display_categories(model, data):\n",
    "    labels = model.fit_predict(data)\n",
    "    sns.scatterplot(data=data, x='X1', y='X2', hue=labels, palette='Set1')"
   ]
  },
  {
   "cell_type": "markdown",
   "id": "0c066691",
   "metadata": {},
   "source": [
    "### K-means"
   ]
  },
  {
   "cell_type": "code",
   "execution_count": null,
   "id": "82bc3dbd",
   "metadata": {},
   "outputs": [],
   "source": [
    "from sklearn.cluster import KMeans\n",
    "\n",
    "import warnings\n",
    "warnings.filterwarnings('ignore')"
   ]
  },
  {
   "cell_type": "code",
   "execution_count": null,
   "id": "15aecbb4",
   "metadata": {},
   "outputs": [],
   "source": [
    "model = KMeans(n_clusters = 3, n_init = 10)\n",
    "display_categories(model, blobs)"
   ]
  },
  {
   "cell_type": "markdown",
   "id": "46489874",
   "metadata": {},
   "source": [
    "We can see that K-means cannot cluster this type of data properly."
   ]
  },
  {
   "cell_type": "code",
   "execution_count": null,
   "id": "3dbb609a",
   "metadata": {},
   "outputs": [],
   "source": [
    "model = KMeans(n_clusters = 2, n_init = 10)\n",
    "display_categories(model, moons)"
   ]
  },
  {
   "cell_type": "markdown",
   "id": "573448d8",
   "metadata": {},
   "source": [
    "Below is another example of bad clustering."
   ]
  },
  {
   "cell_type": "code",
   "execution_count": null,
   "id": "f8bba7d8",
   "metadata": {},
   "outputs": [],
   "source": [
    "model = KMeans(n_clusters = 2, n_init = 10)\n",
    "display_categories(model, circles)"
   ]
  },
  {
   "cell_type": "markdown",
   "id": "625e56c2",
   "metadata": {},
   "source": [
    "### DBSCAN"
   ]
  },
  {
   "cell_type": "code",
   "execution_count": null,
   "id": "55819d62",
   "metadata": {},
   "outputs": [],
   "source": [
    "from sklearn.cluster import DBSCAN"
   ]
  },
  {
   "cell_type": "markdown",
   "id": "589452ac",
   "metadata": {},
   "source": [
    "The red points are outliers. This is because of the default DBSCAN behaviour."
   ]
  },
  {
   "cell_type": "code",
   "execution_count": null,
   "id": "0eaa36bb",
   "metadata": {},
   "outputs": [],
   "source": [
    "model = DBSCAN()\n",
    "display_categories(model, blobs)"
   ]
  },
  {
   "cell_type": "markdown",
   "id": "26a3d411",
   "metadata": {},
   "source": [
    "DBSCAN correctly cluster the data."
   ]
  },
  {
   "cell_type": "code",
   "execution_count": null,
   "id": "c6282488",
   "metadata": {},
   "outputs": [],
   "source": [
    "model = DBSCAN(eps=0.15)\n",
    "display_categories(model, moons)"
   ]
  },
  {
   "cell_type": "code",
   "execution_count": null,
   "id": "05e2065b",
   "metadata": {},
   "outputs": [],
   "source": [
    "model = DBSCAN(eps=0.15)\n",
    "display_categories(model, circles)"
   ]
  }
 ],
 "metadata": {
  "kernelspec": {
   "display_name": "Python 3 (ipykernel)",
   "language": "python",
   "name": "python3"
  },
  "language_info": {
   "codemirror_mode": {
    "name": "ipython",
    "version": 3
   },
   "file_extension": ".py",
   "mimetype": "text/x-python",
   "name": "python",
   "nbconvert_exporter": "python",
   "pygments_lexer": "ipython3",
   "version": "3.10.9"
  }
 },
 "nbformat": 4,
 "nbformat_minor": 5
}
