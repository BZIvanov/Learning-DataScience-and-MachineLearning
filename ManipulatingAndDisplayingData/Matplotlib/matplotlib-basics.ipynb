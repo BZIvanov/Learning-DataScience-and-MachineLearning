{
 "cells": [
  {
   "cell_type": "code",
   "execution_count": null,
   "id": "5ca24a35",
   "metadata": {},
   "outputs": [],
   "source": [
    "import matplotlib.pyplot as plt\n",
    "import numpy as np"
   ]
  },
  {
   "cell_type": "markdown",
   "id": "830fccc7",
   "metadata": {},
   "source": [
    "### Simple chart"
   ]
  },
  {
   "cell_type": "code",
   "execution_count": null,
   "id": "b02a2684",
   "metadata": {},
   "outputs": [],
   "source": [
    "x = np.arange(0, 10)\n",
    "y = 2 * x\n",
    "\n",
    "plt.plot(x, y) \n",
    "plt.xlabel('Horizontal Axis')\n",
    "plt.ylabel('Vertical Axis')\n",
    "plt.title('My Title')\n",
    "plt.show()"
   ]
  },
  {
   "cell_type": "markdown",
   "id": "07929f47",
   "metadata": {},
   "source": [
    "### Double chart"
   ]
  },
  {
   "cell_type": "code",
   "execution_count": null,
   "id": "a2d027bb",
   "metadata": {},
   "outputs": [],
   "source": [
    "# Creates blank canvas\n",
    "fig = plt.figure()\n",
    "\n",
    "a = np.linspace(0,10,11)\n",
    "b = a ** 4\n",
    "\n",
    "big = fig.add_axes([0, 0, 1, 1])\n",
    "big.plot(a, b)\n",
    "big.set_xlabel('X Label')\n",
    "big.set_ylabel('Y Label')\n",
    "big.set_title('Big Figure')\n",
    "\n",
    "small = fig.add_axes([0.2, 0.2, 0.5, 0.5])\n",
    "small.plot(a,b)\n",
    "small.set_title('Small Figure');"
   ]
  },
  {
   "cell_type": "markdown",
   "id": "f29f7645",
   "metadata": {},
   "source": [
    "### Styling"
   ]
  },
  {
   "cell_type": "code",
   "execution_count": null,
   "id": "310121b5",
   "metadata": {},
   "outputs": [],
   "source": [
    "fig = plt.figure()\n",
    "\n",
    "values = np.arange(0,10)\n",
    "\n",
    "ax = fig.add_axes([0,0,1,1])\n",
    "\n",
    "ax.plot(values, values * 1.5, label=\"x1.5\", ls='--')\n",
    "ax.plot(values, values * 2, label=\"x2\", color='#af2011', marker='x')\n",
    "ax.plot(values, values * 4, label=\"x4\", lw=3)\n",
    "ax.legend(loc=(1.1, 0.5))"
   ]
  }
 ],
 "metadata": {
  "kernelspec": {
   "display_name": "Python 3 (ipykernel)",
   "language": "python",
   "name": "python3"
  },
  "language_info": {
   "codemirror_mode": {
    "name": "ipython",
    "version": 3
   },
   "file_extension": ".py",
   "mimetype": "text/x-python",
   "name": "python",
   "nbconvert_exporter": "python",
   "pygments_lexer": "ipython3",
   "version": "3.10.9"
  }
 },
 "nbformat": 4,
 "nbformat_minor": 5
}
