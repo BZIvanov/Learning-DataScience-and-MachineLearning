{
 "cells": [
  {
   "cell_type": "markdown",
   "id": "1cd50142",
   "metadata": {},
   "source": [
    "# Data Normalization"
   ]
  },
  {
   "cell_type": "markdown",
   "id": "2d3991c8",
   "metadata": {},
   "source": [
    "Normalizing data is a common preprocessing step in data analysis and machine learning to scale the data into a similar range. Normalization is essential when your data features have different scales, and you want to ensure that each feature contributes equally to the analysis. There are various methods to normalize data, but two of the most commonly used ones are Min-Max normalization and Z-score normalization."
   ]
  },
  {
   "cell_type": "markdown",
   "id": "136440fc",
   "metadata": {},
   "source": [
    "Here is our original dataset\n",
    "\n",
    "|feature1|feature2|\n",
    "|---|---|\n",
    "|10|25|\n",
    "|5|15|\n",
    "|20|30|\n",
    "|15|20|\n",
    "|8|22|"
   ]
  },
  {
   "cell_type": "markdown",
   "id": "90bc92ef",
   "metadata": {},
   "source": [
    "For feature1:\n",
    "- `min_value` = 5\n",
    "- `max_value` = 20\n",
    "- `mean` =  (10 + 5 + 20 + 15 + 8) / 5 = 11.6 (approx)\n",
    "- `standard_deviation` = sqrt((10-11.6)^2 + (5-11.6)^2 + (20-11.6)^2 + (15-11.6)^2 + (8-11.6)^2) / 5 = 5.47 (approx)\n",
    "\n",
    "For feature2:\n",
    "- `min_value` = 15\n",
    "- `max_value` = 30\n",
    "- `mean` =  (25 + 15 + 30 + 20 + 22) / 5 = 22.4 (approx)\n",
    "- `standard_deviation` = sqrt((25-22.4)^2 + (15-22.4)^2 + (30-22.4)^2 + (20-22.4)^2 + (22-22.4)^2) / 5 = 5.09 (approx)"
   ]
  },
  {
   "cell_type": "markdown",
   "id": "006008b1",
   "metadata": {},
   "source": [
    "## Min-Max Normalization"
   ]
  },
  {
   "cell_type": "markdown",
   "id": "424374d6",
   "metadata": {},
   "source": [
    "Min-Max normalization scales the data to a fixed range, typically between 0 and 1.\n",
    "\n",
    "The formula to normalize a single feature (column) is as follows:\n",
    "\n",
    "```\n",
    "normalized_value = (x - min_value) / (max_value - min_value)\n",
    "```\n",
    "\n",
    "where:\n",
    "\n",
    "- `x` is the original value of the data point\n",
    "- `min_value` is the minimum value of the feature in the dataset\n",
    "- `max_value` is the maximum value of the feature in the dataset"
   ]
  },
  {
   "cell_type": "markdown",
   "id": "49b79315",
   "metadata": {},
   "source": [
    "These are the results for Min-Max Normalization:\n",
    "\n",
    "|feature1|feature2|\n",
    "|---|---|\n",
    "|0.375|0.333|\n",
    "|0.0|0.0|\n",
    "|1.0|1.0|\n",
    "|0.75|0.666|\n",
    "|0.25|0.5|"
   ]
  },
  {
   "cell_type": "markdown",
   "id": "77eaa197",
   "metadata": {},
   "source": [
    "## Z-score Normalization (Standardization)"
   ]
  },
  {
   "cell_type": "markdown",
   "id": "0c53c695",
   "metadata": {},
   "source": [
    "Z-score normalization (also known as standardization) scales the data to have a mean of 0 and a standard deviation of 1.\n",
    "\n",
    "The formula for Z-score normalization of a single feature is as follows:\n",
    "\n",
    "```\n",
    "normalized_value = (x - mean) / standard_deviation\n",
    "```\n",
    "\n",
    "where:\n",
    "\n",
    "- `x` is the original value of the data point\n",
    "- `mean` is the mean of the feature in the dataset\n",
    "- `standard_deviation` is the standard deviation of the feature in the dataset.\n",
    "\n",
    "Z-score normalization makes the data centered around 0, and the spread of the data will be adjusted by the standard deviation."
   ]
  },
  {
   "cell_type": "markdown",
   "id": "417a6c79",
   "metadata": {},
   "source": [
    "These are the results for Z-score Normalization:\n",
    "\n",
    "|feature1|feature2|\n",
    "|---|---|\n",
    "|-0.51|0.222|\n",
    "|-1.15|-1.33|\n",
    "|1.27|1.11|\n",
    "|0.36|-0.11|\n",
    "|-0.27|0.11|"
   ]
  }
 ],
 "metadata": {
  "kernelspec": {
   "display_name": "Python 3 (ipykernel)",
   "language": "python",
   "name": "python3"
  },
  "language_info": {
   "codemirror_mode": {
    "name": "ipython",
    "version": 3
   },
   "file_extension": ".py",
   "mimetype": "text/x-python",
   "name": "python",
   "nbconvert_exporter": "python",
   "pygments_lexer": "ipython3",
   "version": "3.10.9"
  }
 },
 "nbformat": 4,
 "nbformat_minor": 5
}
