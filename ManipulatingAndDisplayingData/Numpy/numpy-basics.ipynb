{
 "cells": [
  {
   "cell_type": "code",
   "execution_count": null,
   "id": "5ca24a35",
   "metadata": {},
   "outputs": [],
   "source": [
    "import numpy as np"
   ]
  },
  {
   "cell_type": "markdown",
   "id": "078c9221",
   "metadata": {},
   "source": [
    "- Pressing `Tab` will provide autocomplete suggestions. For example type `np.` and press Tab to see get a list with available methods.\n",
    "- Pressing `Shift + Tab` will provide info for a given method. For example type `np.absolute` and press Shift + Tab to get info window of what the method does."
   ]
  },
  {
   "cell_type": "code",
   "execution_count": null,
   "id": "1ff786bc",
   "metadata": {},
   "outputs": [],
   "source": [
    "# Create numpy list based on a python list\n",
    "\n",
    "my_list = [1, 2, 3]\n",
    "print(type(my_list)) # <class 'list'>\n",
    "\n",
    "my_np_list = np.array(my_list)\n",
    "print(type(my_np_list)) # <class 'numpy.ndarray'>"
   ]
  },
  {
   "cell_type": "code",
   "execution_count": null,
   "id": "669175df",
   "metadata": {},
   "outputs": [],
   "source": [
    "# Create list using built-in methods\n",
    "\n",
    "np.arange(0, 10, 2) # array([0, 2, 4, 6, 8])"
   ]
  },
  {
   "cell_type": "code",
   "execution_count": null,
   "id": "a29dd658",
   "metadata": {},
   "outputs": [],
   "source": [
    "# Create matrix filled with zero floating numbers\n",
    "\n",
    "np.zeros((2, 3))\n",
    "# array([[0., 0., 0.],\n",
    "#       [0., 0., 0.]])"
   ]
  },
  {
   "cell_type": "code",
   "execution_count": null,
   "id": "d8e32678",
   "metadata": {},
   "outputs": [],
   "source": [
    "# Important difference between numpy array and python array is that numpy supports broadcasting\n",
    "# Using broadcasting we can reassign multiple values at once\n",
    "nums_list = np.array([1, 2, 3, 4, 5])\n",
    "nums_list[0:2] = 9\n",
    "nums_list"
   ]
  },
  {
   "cell_type": "code",
   "execution_count": null,
   "id": "62c3eeea",
   "metadata": {},
   "outputs": [],
   "source": [
    "# Some more advanced selections\n",
    "nums_arr_matrix = np.array([[1, 2, 3], [4, 5, 6], [7, 8, 9]])\n",
    "# Below 2 lines will produce the same result\n",
    "print(nums_arr_matrix[1][1]) # 5\n",
    "print(nums_arr_matrix[1,1]) # 5\n",
    "nums_arr_matrix[:2, 1:] # take the first 2 elements and from them take everything starting from the second element"
   ]
  },
  {
   "cell_type": "code",
   "execution_count": null,
   "id": "10fa447b",
   "metadata": {},
   "outputs": [],
   "source": [
    "# Conditional selection\n",
    "full_list = np.arange(1, 11)\n",
    "odd_list = full_list[full_list % 2 != 0]\n",
    "odd_list"
   ]
  }
 ],
 "metadata": {
  "kernelspec": {
   "display_name": "Python 3 (ipykernel)",
   "language": "python",
   "name": "python3"
  },
  "language_info": {
   "codemirror_mode": {
    "name": "ipython",
    "version": 3
   },
   "file_extension": ".py",
   "mimetype": "text/x-python",
   "name": "python",
   "nbconvert_exporter": "python",
   "pygments_lexer": "ipython3",
   "version": "3.10.9"
  }
 },
 "nbformat": 4,
 "nbformat_minor": 5
}
