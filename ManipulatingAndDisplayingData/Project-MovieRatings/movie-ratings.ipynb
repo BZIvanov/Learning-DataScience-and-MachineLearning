{
 "cells": [
  {
   "cell_type": "markdown",
   "id": "de6ece9b",
   "metadata": {},
   "source": [
    "# Movie Ratings Project"
   ]
  },
  {
   "cell_type": "markdown",
   "id": "e7a24d7d",
   "metadata": {},
   "source": [
    "## About the project\n",
    "\n",
    "This project is about a company providing fake movie ratings to increase to viewers interest of watching the movie. For this reason we will call the cheating company `Fake company` and the rest of the companies offering movie ratings will be called `Company1`, `Company2` and `Company3`.\n",
    "\n",
    "The goal of the project is to prove, that the Fake company is manipulating the ratings by slightly increasing the ratings of the movies in order their customer to be more interested in buying tickets for the movie."
   ]
  },
  {
   "cell_type": "markdown",
   "id": "c8b94b48",
   "metadata": {},
   "source": [
    "## About the data\n",
    "\n",
    "We have 2 csv files as a data source.\n",
    "\n",
    "- `fake-company.csv` - contains data for the Fake company movies ratings\n",
    "- `other-companies.csv` - contains data for the rest of the companies movies ratings\n",
    "\n",
    "---\n",
    "\n",
    "`fake-company.csv`\n",
    "\n",
    "Column | Definiton\n",
    "--- | ---------\n",
    "MOVIE | The name of the movie and the release year\n",
    "STARS | Number of stars presented on the website (rounded Rating value)\n",
    "RATING | The rating of the movie, which the Fake company is providing to their customers. On a scale 1-5\n",
    "RATING_COUNT | The number of users who rated the movie\n",
    "\n",
    "`other-companies.csv`\n",
    "\n",
    "Column | Definition\n",
    "--- | -----------\n",
    "MOVIE | The name of the movie and the release year\n",
    "Company1_RATING | The movie rating provided by Company1 movie critics. On a scale 1-100\n",
    "Company1_USER_RATING | The movie rating provided by Company1 users. On a scale 1-100\n",
    "Company2_RATING | The movie rating provided by Company2 movie critics. On a scale 1-100\n",
    "Company2_USER_RATING | The movie rating provided by Company2 users. On a scale 1-10\n",
    "Company2_USER_RATING_COUNT | The number of users from Company2 who rated the movie\n",
    "Company3_RATING | The movie rating provided by Company3 movie critics. On a scale 1-10\n",
    "Company3_USER_RATING_COUNT | The number of users from Company3 who rated the movie\n",
    "\n",
    "---\n",
    "\n",
    "_Additional Notes:_\n",
    "\n",
    "- _The different companies are providing ratings on different scales, sometimes even within the company. For example 1-5, 1-10, 1-100_\n",
    "- _Within a company sometimes we have both RATING and USER_RATING. This is because the company is providing its own rating based on a movie critics and user rating based on a users who are rating the movie on the company's website_"
   ]
  },
  {
   "cell_type": "markdown",
   "id": "1299d960",
   "metadata": {},
   "source": [
    "## Solution"
   ]
  },
  {
   "cell_type": "code",
   "execution_count": null,
   "id": "5ca24a35",
   "metadata": {},
   "outputs": [],
   "source": [
    "# import the libraries we are going to need for this project\n",
    "import numpy as np\n",
    "import pandas as pd\n",
    "import matplotlib.pyplot as plt\n",
    "import seaborn as sns"
   ]
  },
  {
   "cell_type": "markdown",
   "id": "f638fc54",
   "metadata": {},
   "source": [
    "### Part 1: Exploring Fake company Displayed Scores versus Actual User Ratings"
   ]
  },
  {
   "cell_type": "markdown",
   "id": "f8bf7116",
   "metadata": {},
   "source": [
    "**Preview the Fake company data**\n",
    "\n",
    "If we expect all the data one thing we can easily notice is the round up of RATING in the STARS column. For example 3.6 would be rounded to 4, not to 3.5"
   ]
  },
  {
   "cell_type": "code",
   "execution_count": null,
   "id": "00b400e0",
   "metadata": {},
   "outputs": [],
   "source": [
    "fake_company = pd.read_csv(\"fake-company.csv\")\n",
    "fake_company.head()"
   ]
  },
  {
   "cell_type": "markdown",
   "id": "404bae71",
   "metadata": {},
   "source": [
    "**Let's explore the relationship between popularity of a movie and its rating. The plot is showing the relationship between rating and ratings count.**"
   ]
  },
  {
   "cell_type": "code",
   "execution_count": null,
   "id": "567a8a63",
   "metadata": {},
   "outputs": [],
   "source": [
    "plt.figure(figsize=(10, 4), dpi=150)\n",
    "sns.scatterplot(data=fake_company, x='RATING', y='RATING_COUNT');"
   ]
  },
  {
   "cell_type": "markdown",
   "id": "6d15f65d",
   "metadata": {},
   "source": [
    "**Calculation of the correlation between the columns**\n",
    "\n",
    "We can notice here small discrepancy between STARS and RATING, they are not perfectly correlated."
   ]
  },
  {
   "cell_type": "code",
   "execution_count": null,
   "id": "8938ab08",
   "metadata": {},
   "outputs": [],
   "source": [
    "fake_company.corr(numeric_only=True)"
   ]
  },
  {
   "cell_type": "markdown",
   "id": "60e07fce",
   "metadata": {},
   "source": [
    "**Here we will extract the movie year from the title and set the year as a separate column. And then we display the number of movies for each year.**\n",
    "\n",
    "We don't really need the year column to prove our theory for the cheating company. This is just for an exercise to work with our data."
   ]
  },
  {
   "cell_type": "code",
   "execution_count": null,
   "id": "1262a3bd",
   "metadata": {},
   "outputs": [],
   "source": [
    "fake_company['YEAR'] = fake_company['MOVIE'].apply(lambda title:title.split('(')[-1].replace(')', ''))\n",
    "fake_company['YEAR'].value_counts()"
   ]
  },
  {
   "cell_type": "markdown",
   "id": "b7e7fbcb",
   "metadata": {},
   "source": [
    "**Visualize the count of movies per year with a plot**"
   ]
  },
  {
   "cell_type": "code",
   "execution_count": null,
   "id": "fd1f6690",
   "metadata": {},
   "outputs": [],
   "source": [
    "sns.countplot(data=fake_company, x='YEAR')"
   ]
  },
  {
   "cell_type": "markdown",
   "id": "c2da77dc",
   "metadata": {},
   "source": [
    "**Display the 10 movies with the highest number of ratings count**"
   ]
  },
  {
   "cell_type": "code",
   "execution_count": null,
   "id": "1bea7e4c",
   "metadata": {},
   "outputs": [],
   "source": [
    "fake_company.nlargest(10, 'RATING_COUNT')"
   ]
  },
  {
   "cell_type": "markdown",
   "id": "c2836755",
   "metadata": {},
   "source": [
    "**Display how many movies have zero votes**\n",
    "\n",
    "Displaying this data is also not needed to prove that the Fake company is cheating. This is also as an exercise and to get better understanding of the data we have"
   ]
  },
  {
   "cell_type": "code",
   "execution_count": null,
   "id": "14259720",
   "metadata": {},
   "outputs": [],
   "source": [
    "no_votes = fake_company['RATING_COUNT'] == 0 \n",
    "no_votes.sum()"
   ]
  },
  {
   "cell_type": "markdown",
   "id": "926b340e",
   "metadata": {},
   "source": [
    "**Create DataFrame of only reviewed movies by removing any films that have zero votes.**"
   ]
  },
  {
   "cell_type": "code",
   "execution_count": null,
   "id": "7e093b73",
   "metadata": {},
   "outputs": [],
   "source": [
    "fan_reviewed = fake_company[fake_company['RATING_COUNT'] > 0]"
   ]
  },
  {
   "cell_type": "markdown",
   "id": "40b1fcbd",
   "metadata": {},
   "source": [
    "**The Fake company is displaying the rating as stars which are rounded up. Let's visualize this difference in distributions.**\n",
    "\n",
    "We are displaying the distribution of ratings that are displayed (STARS) versus what the actual rating was from votes (RATING). Clip the KDEs to 0-5, because these are the only possible values we can have"
   ]
  },
  {
   "cell_type": "code",
   "execution_count": null,
   "id": "b3128a4e",
   "metadata": {},
   "outputs": [],
   "source": [
    "plt.figure(figsize=(10, 4), dpi=150)\n",
    "sns.kdeplot(data=fan_reviewed, x='RATING', clip=[0, 5], fill=True, label='Actual Rating')\n",
    "sns.kdeplot(data=fan_reviewed, x='STARS', clip=[0, 5], fill=True, label='Stars Displayed')\n",
    "\n",
    "plt.legend(loc=(1.05, 0.5))"
   ]
  },
  {
   "cell_type": "markdown",
   "id": "ea530db7",
   "metadata": {},
   "source": [
    "**Let's now actually quantify this discrepancy. We will create new column which displays the difference betweem stars displayed to the customers versus the actual rating.**"
   ]
  },
  {
   "cell_type": "code",
   "execution_count": null,
   "id": "5b5cd22f",
   "metadata": {},
   "outputs": [],
   "source": [
    "fan_reviewed = fan_reviewed.copy()\n",
    "fan_reviewed.loc[:, \"STARS_DIFF\"] = fan_reviewed['STARS'] - fan_reviewed['RATING']\n",
    "fan_reviewed.loc[:, \"STARS_DIFF\"] = fan_reviewed['STARS_DIFF'].round(2)\n",
    "\n",
    "fan_reviewed"
   ]
  },
  {
   "cell_type": "markdown",
   "id": "8ac1b135",
   "metadata": {},
   "source": [
    "**Display the number of times a certain difference occurs**\n",
    "\n",
    "For example how many times the STARS were 0.1 points higher than the RATING. Also how many times 0.2 points higher etc...\n",
    "\n",
    "We can see that for around 100 of the movies the STARS and the RATING are the same, but for 1 of the movies the displayed stars are 1 higher than the rating\n",
    "\n",
    "We can also notice that we have many movies which are displaying higher number of STARS than RATING, because we have many movies in the columns which are with value 0.1 or higher"
   ]
  },
  {
   "cell_type": "code",
   "execution_count": null,
   "id": "81c43850",
   "metadata": {},
   "outputs": [],
   "source": [
    "plt.figure(figsize=(12, 4), dpi=150)\n",
    "sns.countplot(data=fan_reviewed, x='STARS_DIFF', palette='magma')"
   ]
  },
  {
   "cell_type": "markdown",
   "id": "48824034",
   "metadata": {},
   "source": [
    "**We can see from the plot that one movie was displaying over a 1 star difference than its actual rating! Let's display which movie it was**"
   ]
  },
  {
   "cell_type": "code",
   "execution_count": null,
   "id": "43a759d9",
   "metadata": {},
   "outputs": [],
   "source": [
    "fan_reviewed[fan_reviewed['STARS_DIFF'] == 1]"
   ]
  },
  {
   "cell_type": "markdown",
   "id": "61dff67b",
   "metadata": {},
   "source": [
    "### Part 2: Comparison of Fake company Ratings to Other Companies"
   ]
  },
  {
   "cell_type": "markdown",
   "id": "0e2018fe",
   "metadata": {},
   "source": [
    "**Read other companies data and preview the data frame**"
   ]
  },
  {
   "cell_type": "code",
   "execution_count": null,
   "id": "908e3338",
   "metadata": {},
   "outputs": [],
   "source": [
    "other_companies = pd.read_csv(\"other-companies.csv\")\n",
    "other_companies.head()"
   ]
  },
  {
   "cell_type": "markdown",
   "id": "20e292a2",
   "metadata": {},
   "source": [
    "### Company1\n",
    "\n",
    "**Let's first take a look at Company1. It has two sets of reviews, their critics reviews (ratings published by official critics) and user reviews.**"
   ]
  },
  {
   "cell_type": "code",
   "execution_count": null,
   "id": "e9befa76",
   "metadata": {},
   "outputs": [],
   "source": [
    "plt.figure(figsize=(10, 4), dpi=150)\n",
    "sns.scatterplot(data=other_companies, x='Company1_RATING', y='Company1_USER_RATING')\n",
    "plt.xlim(0,100)\n",
    "plt.ylim(0,100)"
   ]
  },
  {
   "cell_type": "markdown",
   "id": "da0aced5",
   "metadata": {},
   "source": [
    "**Let's quantify this difference by comparing the critics ratings and the user ratings for Company1.**\n",
    "\n",
    "We will create a new column based off the difference between critics ratings and users ratings for Company1.\n",
    "\n",
    "The higher positive value means, that the critics like the movie better than the users. This is because if critics gave score of 50 for a movie and users gave 40 we will have 50 - 40 = 10. And of course the bigger negative values means, that the users liked the movie better than the critics."
   ]
  },
  {
   "cell_type": "code",
   "execution_count": null,
   "id": "bfb7d6d9",
   "metadata": {},
   "outputs": [],
   "source": [
    "other_companies['Company1_Diff']  = other_companies['Company1_RATING'] - other_companies['Company1_USER_RATING']"
   ]
  },
  {
   "cell_type": "markdown",
   "id": "fa9260ca",
   "metadata": {},
   "source": [
    "**Let's now compare the overall mean difference. Since we're dealing with differences that could be negative or positive, first take the absolute value of all the differences, then take the mean. This would report back on average to absolute difference between the critics rating versus the user rating.**"
   ]
  },
  {
   "cell_type": "code",
   "execution_count": null,
   "id": "46c03a03",
   "metadata": {},
   "outputs": [],
   "source": [
    "other_companies['Company1_Diff'].apply(abs).mean()"
   ]
  },
  {
   "cell_type": "markdown",
   "id": "a6bf488f",
   "metadata": {},
   "source": [
    "**Plot the distribution of the differences between Company1 critics score and Company1 user score. There should be negative values in this distribution plot.**"
   ]
  },
  {
   "cell_type": "code",
   "execution_count": null,
   "id": "2873317f",
   "metadata": {},
   "outputs": [],
   "source": [
    "plt.figure(figsize=(10, 4), dpi=200)\n",
    "sns.histplot(data=other_companies, x='Company1_Diff', kde=True, bins=25)\n",
    "plt.title(\"Company1 Critics score minus Company1 User score\");"
   ]
  },
  {
   "cell_type": "markdown",
   "id": "0bae5662",
   "metadata": {},
   "source": [
    "**Create a distribution showing the absolute value difference between Critics and Users on Company1.**"
   ]
  },
  {
   "cell_type": "code",
   "execution_count": null,
   "id": "c9907369",
   "metadata": {},
   "outputs": [],
   "source": [
    "plt.figure(figsize=(10, 4), dpi=200)\n",
    "sns.histplot(x=other_companies['Company1_Diff'].apply(abs), bins=25, kde=True)\n",
    "plt.title(\"Absolute difference between Company1 Critics score and Company1 User score\");"
   ]
  },
  {
   "cell_type": "markdown",
   "id": "2d9ce88f",
   "metadata": {},
   "source": [
    "**Let's find out which movies are causing the largest differences. First, show the top 5 movies with the largest negative difference between Company1 users and critics. Since we calculated the difference as Critics Rating - Users Rating, then large negative values imply the users rated the movie much higher on average than the critics did.**\n",
    "\n",
    "**Display the top 5 movies users rated higher than critics on average**"
   ]
  },
  {
   "cell_type": "code",
   "execution_count": null,
   "id": "682688ed",
   "metadata": {},
   "outputs": [],
   "source": [
    "print(\"Users love, but Critics hate\")\n",
    "other_companies.nsmallest(5, 'Company1_Diff')[['MOVIE', 'Company1_Diff']]"
   ]
  },
  {
   "cell_type": "markdown",
   "id": "3b7df311",
   "metadata": {},
   "source": [
    "**Now show the top 5 movies critics scores higher than users on average.**"
   ]
  },
  {
   "cell_type": "code",
   "execution_count": null,
   "id": "d4437a31",
   "metadata": {},
   "outputs": [],
   "source": [
    "print(\"Critics love, but Users hate\")\n",
    "other_companies.nlargest(5, 'Company1_Diff')[['MOVIE', 'Company1_Diff']]"
   ]
  },
  {
   "cell_type": "markdown",
   "id": "ec6e1a95",
   "metadata": {},
   "source": [
    "### Company2\n",
    "\n",
    "**Now let's take a quick look at the ratings from Company2. Company2 also shows an average user rating versus their critics displayed rating.**\n",
    "\n",
    "**Display a scatterplot of the Company2 Critics rating versus User rating.**"
   ]
  },
  {
   "cell_type": "code",
   "execution_count": null,
   "id": "037a3232",
   "metadata": {},
   "outputs": [],
   "source": [
    "plt.figure(figsize=(10, 4), dpi=150)\n",
    "sns.scatterplot(data=other_companies, x='Company2_RATING', y='Company2_USER_RATING')\n",
    "plt.xlim(0,100)\n",
    "plt.ylim(0,10)"
   ]
  },
  {
   "cell_type": "markdown",
   "id": "8fe9b393",
   "metadata": {},
   "source": [
    "### Company3\n",
    "\n",
    "**Finally let's explore Company3. Notice that both Company2 and Company3 report back rating counts. Let's analyze the most popular movies.**\n",
    "\n",
    "Let's display scatterplot for the relationship between rating counts on Company2 versus rating counts on Company3"
   ]
  },
  {
   "cell_type": "code",
   "execution_count": null,
   "id": "819844e5",
   "metadata": {},
   "outputs": [],
   "source": [
    "plt.figure(figsize=(10, 4), dpi=150)\n",
    "sns.scatterplot(data=other_companies, x='Company2_USER_RATING_COUNT', y='Company3_USER_RATING_COUNT')"
   ]
  },
  {
   "cell_type": "markdown",
   "id": "9e97f28d",
   "metadata": {},
   "source": [
    "**Notice there are two outliers here. The first outlier with the highest rating count on Company3 only has about 500 Company2 ratings. The second outlier has high count for both Company2 and Company3**\n",
    "\n",
    "**Display the first outlier - the movie with highest Company3 user rating count**"
   ]
  },
  {
   "cell_type": "code",
   "execution_count": null,
   "id": "4562e8d6",
   "metadata": {},
   "outputs": [],
   "source": [
    "other_companies.nlargest(1, 'Company3_USER_RATING_COUNT')"
   ]
  },
  {
   "cell_type": "markdown",
   "id": "a1fb0bdd",
   "metadata": {},
   "source": [
    "**Display the second outlier - the movie with highest Company2 user rating count**"
   ]
  },
  {
   "cell_type": "code",
   "execution_count": null,
   "id": "7c414a17",
   "metadata": {},
   "outputs": [],
   "source": [
    "other_companies.nlargest(1,'Company2_USER_RATING_COUNT')"
   ]
  },
  {
   "cell_type": "markdown",
   "id": "1d5b1ba2",
   "metadata": {},
   "source": [
    "### Fake company scores vs. Other companies\n",
    "\n",
    "**Finally let's begin to explore whether or not Fake company artificially displays higher ratings than warranted to boost movie ticket sales.**"
   ]
  },
  {
   "cell_type": "markdown",
   "id": "01c96206",
   "metadata": {},
   "source": [
    "**We will combine Company1 table with the other companies table. Not every movie in the Comapny1 table is in the Other companies table, since some Fake company movies have very little or no reviews. We only want to compare movies that are in both DataFrames, so we do an inner merge to merge together both DataFrames based on the Movie columns.**"
   ]
  },
  {
   "cell_type": "code",
   "execution_count": null,
   "id": "6c580722",
   "metadata": {},
   "outputs": [],
   "source": [
    "df = pd.merge(fake_company, other_companies, on='MOVIE', how='inner')\n",
    "df.head()"
   ]
  },
  {
   "cell_type": "code",
   "execution_count": null,
   "id": "7f4da197",
   "metadata": {},
   "outputs": [],
   "source": [
    "df.info()"
   ]
  },
  {
   "cell_type": "markdown",
   "id": "2a796b09",
   "metadata": {},
   "source": [
    "### Normalize columns to Fake company STARS and RATINGS 0-5\n",
    "\n",
    "Notice that Company1, Company2 and Company3 don't use a score between 0-5 stars like Fake company does. In order to do a fair comparison, we need to normalize these values so they all fall between 0-5 stars and the relationship between reviews stays the same.\n",
    "\n",
    "Simple way to convert ratings to have everything on a scale 0-5:\n",
    "\n",
    "100 / 20 = 5\n",
    "\n",
    "10 / 2 = 5"
   ]
  },
  {
   "cell_type": "code",
   "execution_count": null,
   "id": "251ae9cf",
   "metadata": {},
   "outputs": [],
   "source": [
    "# Dont run this cell multiple times, otherwise you keep dividing\n",
    "df['Company1_Norm'] = np.round(df['Company1_RATING'] / 20, 1)\n",
    "df['Company1User_Norm'] =  np.round(df['Company1_USER_RATING'] / 20, 1)\n",
    "\n",
    "df['Company2_Norm'] =  np.round(df['Company2_RATING'] / 20, 1)\n",
    "df['Company2User_Norm'] =  np.round(df['Company2_USER_RATING'] / 2, 1)\n",
    "\n",
    "df['Company3_Norm'] = np.round(df['Company3_RATING'] / 2, 1)"
   ]
  },
  {
   "cell_type": "code",
   "execution_count": null,
   "id": "16c4dd89",
   "metadata": {},
   "outputs": [],
   "source": [
    "df.head()"
   ]
  },
  {
   "cell_type": "markdown",
   "id": "496a2988",
   "metadata": {},
   "source": [
    "**Now let's create a norm_scores DataFrame that only contains the normalizes ratings. Including both STARS and RATING from the original Fake company table.**"
   ]
  },
  {
   "cell_type": "code",
   "execution_count": null,
   "id": "5d732551",
   "metadata": {},
   "outputs": [],
   "source": [
    "norm_scores = df[['STARS', 'RATING', 'Company1_Norm', 'Company1User_Norm', 'Company2_Norm', 'Company2User_Norm', 'Company3_Norm']]\n",
    "norm_scores.head()"
   ]
  },
  {
   "cell_type": "markdown",
   "id": "af653e35",
   "metadata": {},
   "source": [
    "### Comparing Distribution of Scores Across Companies\n",
    "\n",
    "Now the moment of truth! Does Fake company display abnormally high ratings? We already know it pushes displayed RATING higher than STARS, but are the ratings themselves higher than average compared to the other companies?\n",
    "\n",
    "Let's create a plot comparing the distributions of normalized ratings across all companies."
   ]
  },
  {
   "cell_type": "code",
   "execution_count": null,
   "id": "0f48d452",
   "metadata": {},
   "outputs": [],
   "source": [
    "def move_legend(ax, new_loc, **kws):\n",
    "    old_legend = ax.legend_\n",
    "    handles = old_legend.legend_handles\n",
    "    labels = [t.get_text() for t in old_legend.get_texts()]\n",
    "    title = old_legend.get_title().get_text()\n",
    "    ax.legend(handles, labels, loc=new_loc, title=title, **kws)"
   ]
  },
  {
   "cell_type": "code",
   "execution_count": null,
   "id": "b0f74a7d",
   "metadata": {},
   "outputs": [],
   "source": [
    "fig, ax = plt.subplots(figsize=(15, 6), dpi=150)\n",
    "sns.kdeplot(data=norm_scores, clip=[0,5], fill=True, palette='Set1', ax=ax)\n",
    "move_legend(ax, \"upper left\")"
   ]
  },
  {
   "cell_type": "markdown",
   "id": "6d68f491",
   "metadata": {},
   "source": [
    "Clearly Fake Company has an uneven distribution. We can also see that Company1 critics have the most uniform distribution. Let's directly compare these two.\n",
    "\n",
    "Let's create a KDE plot that compare the distribution of Company1 critic ratings against the STARS displayed by Fake company.\n",
    "\n",
    "The below plot is similar to the above, but shows data only for the 2 columns (Fake company ratings and Company1 critics ratings) where we have big difference."
   ]
  },
  {
   "cell_type": "code",
   "execution_count": null,
   "id": "415358f0",
   "metadata": {},
   "outputs": [],
   "source": [
    "fig, ax = plt.subplots(figsize=(15, 6), dpi=150)\n",
    "sns.kdeplot(data=norm_scores[['Company1_Norm', 'STARS']], clip=[0, 5], fill=True, palette='Set1', ax=ax)\n",
    "move_legend(ax, \"upper left\")"
   ]
  },
  {
   "cell_type": "markdown",
   "id": "c2e69675",
   "metadata": {},
   "source": [
    "Let's also create a histplot comparing all normalized scores."
   ]
  },
  {
   "cell_type": "code",
   "execution_count": null,
   "id": "af7ce964",
   "metadata": {},
   "outputs": [],
   "source": [
    "plt.subplots(figsize=(15, 6), dpi=150)\n",
    "sns.histplot(norm_scores, bins=50)"
   ]
  },
  {
   "cell_type": "markdown",
   "id": "20ebe920",
   "metadata": {},
   "source": [
    "**How are the worst movies rated across all platforms?**\n",
    "\n",
    "Let's create a clustermap visualization of all normalized scores. Note the differences in ratings, highly rated movies should be clustered together versus poorly rated movies."
   ]
  },
  {
   "cell_type": "code",
   "execution_count": null,
   "id": "174491b2",
   "metadata": {},
   "outputs": [],
   "source": [
    "sns.clustermap(norm_scores, cmap='magma', col_cluster=False)"
   ]
  },
  {
   "cell_type": "markdown",
   "id": "53647838",
   "metadata": {},
   "source": [
    "Clearly Fake company is rating movies much higher than other companies, especially considering that it is then displaying a rounded up version of the rating. Let's examine the top 10 worst movies."
   ]
  },
  {
   "cell_type": "code",
   "execution_count": null,
   "id": "d61b1888",
   "metadata": {},
   "outputs": [],
   "source": [
    "norm_films = df[['STARS', 'RATING', 'Company1_Norm', 'Company1User_Norm', 'Company2_Norm', 'Company2User_Norm', 'Company3_Norm', 'MOVIE']]"
   ]
  },
  {
   "cell_type": "code",
   "execution_count": null,
   "id": "17af7ea3",
   "metadata": {},
   "outputs": [],
   "source": [
    "norm_films.nsmallest(10, 'Company1_Norm')"
   ]
  },
  {
   "cell_type": "markdown",
   "id": "d5a2e4d5",
   "metadata": {},
   "source": [
    "Let's visualize the distribution of ratings across all companies for the top 10 worst movies.\n",
    "\n",
    "We can see even for the 10 worst movies by Company1 critics, the Fake company is still displaying around 3.5-4 stars"
   ]
  },
  {
   "cell_type": "code",
   "execution_count": null,
   "id": "89fb1af9",
   "metadata": {},
   "outputs": [],
   "source": [
    "plt.figure(figsize=(15, 6), dpi=150)\n",
    "worst_films = norm_films.nsmallest(10, 'Company1_Norm').drop('MOVIE', axis=1)\n",
    "sns.kdeplot(data=worst_films, clip=[0,5], fill=True, palette='Set1')\n",
    "plt.title(\"Ratings for Company1 critic's 10 Worst Reviewed Movies\");"
   ]
  },
  {
   "cell_type": "markdown",
   "id": "d5271e35",
   "metadata": {},
   "source": [
    "Select from the 10 worst movies the movie with index 26. We will select that movie, because it has the highest number of stars (4.5) the Fake company is displaying to their customers."
   ]
  },
  {
   "cell_type": "code",
   "execution_count": null,
   "id": "bfeb1503",
   "metadata": {},
   "outputs": [],
   "source": [
    "norm_films.iloc[26]"
   ]
  },
  {
   "cell_type": "code",
   "execution_count": null,
   "id": "83b7b23d",
   "metadata": {},
   "outputs": [],
   "source": [
    "# Sum for the Norms of the other companies (including critics + users where available)\n",
    "norms_sum = 0.4 + 2.3 + 1.3 + 2.3 + 3\n",
    "avg_norms_sum = norms_sum / 5\n",
    "print(avg_norms_sum)"
   ]
  },
  {
   "cell_type": "markdown",
   "id": "89a1c0db",
   "metadata": {},
   "source": [
    "Final thoughts: Fake company is showing around 3-4 star ratings for movies that are clearly bad! Notice the biggest offender, the movie `Movie27`! Fake company is displaying 4.5 stars on their site for a movie with an average rating of 1.86 across the other companies!"
   ]
  }
 ],
 "metadata": {
  "kernelspec": {
   "display_name": "Python 3 (ipykernel)",
   "language": "python",
   "name": "python3"
  },
  "language_info": {
   "codemirror_mode": {
    "name": "ipython",
    "version": 3
   },
   "file_extension": ".py",
   "mimetype": "text/x-python",
   "name": "python",
   "nbconvert_exporter": "python",
   "pygments_lexer": "ipython3",
   "version": "3.10.9"
  }
 },
 "nbformat": 4,
 "nbformat_minor": 5
}
