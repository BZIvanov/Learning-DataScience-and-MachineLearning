{
 "cells": [
  {
   "cell_type": "code",
   "execution_count": null,
   "id": "5ca24a35",
   "metadata": {},
   "outputs": [],
   "source": [
    "import numpy as np\n",
    "import pandas as pd"
   ]
  },
  {
   "cell_type": "markdown",
   "id": "d182bd6f",
   "metadata": {},
   "source": [
    "### Read and display info about our data"
   ]
  },
  {
   "cell_type": "code",
   "execution_count": null,
   "id": "6f35a792",
   "metadata": {},
   "outputs": [],
   "source": [
    "df = pd.read_csv('my-users.csv')\n",
    "df.head()"
   ]
  },
  {
   "cell_type": "code",
   "execution_count": null,
   "id": "9842f86a",
   "metadata": {},
   "outputs": [],
   "source": [
    "df.columns"
   ]
  },
  {
   "cell_type": "code",
   "execution_count": null,
   "id": "3169948b",
   "metadata": {},
   "outputs": [],
   "source": [
    "df.index"
   ]
  },
  {
   "cell_type": "code",
   "execution_count": null,
   "id": "e0186796",
   "metadata": {},
   "outputs": [],
   "source": [
    "df.describe()"
   ]
  },
  {
   "cell_type": "markdown",
   "id": "9b8359d6",
   "metadata": {},
   "source": [
    "### Data manipulation"
   ]
  },
  {
   "cell_type": "code",
   "execution_count": null,
   "id": "147fbd55",
   "metadata": {},
   "outputs": [],
   "source": [
    "bonus = np.round(df['income'] * df['experience'] / 100, 2)\n",
    "df['bonus'] = bonus\n",
    "bonus"
   ]
  },
  {
   "cell_type": "code",
   "execution_count": null,
   "id": "c4d68050",
   "metadata": {},
   "outputs": [],
   "source": [
    "# get a row based on index\n",
    "df.iloc[0]"
   ]
  },
  {
   "cell_type": "code",
   "execution_count": null,
   "id": "f7fe13af",
   "metadata": {},
   "outputs": [],
   "source": [
    "# conditional filtering\n",
    "df[(df['income'] > 3000) & (df['city'] == 'Sofia')]"
   ]
  },
  {
   "cell_type": "code",
   "execution_count": null,
   "id": "72fa5afc",
   "metadata": {},
   "outputs": [],
   "source": [
    "def mask_fav_food(food):\n",
    "    if len(food) < 3:\n",
    "        return food\n",
    "    else:\n",
    "        middle_letters = food[1:-1]\n",
    "        asterisks = '*' * len(middle_letters)\n",
    "        return food[0] + asterisks + food[-1]\n",
    "\n",
    "df['masked_food'] = df['fav_food'].apply(mask_fav_food)\n",
    "df.head()"
   ]
  },
  {
   "cell_type": "code",
   "execution_count": null,
   "id": "6aece2bb",
   "metadata": {},
   "outputs": [],
   "source": [
    "def action_type(income, experience):\n",
    "    if income < 3000 and experience > 3:\n",
    "        return \"Promotion required\"\n",
    "    else:\n",
    "        return \"Other\"\n",
    "\n",
    "# apply method on more than one row\n",
    "# df['action'] = df[['income','experience']].apply(lambda df: action_type(df['income'], df['experience']),axis=1)\n",
    "df['action'] = np.vectorize(action_type)(df['income'], df['experience'])\n",
    "df.head()"
   ]
  },
  {
   "cell_type": "code",
   "execution_count": null,
   "id": "3f2badfb",
   "metadata": {},
   "outputs": [],
   "source": [
    "df['income'].max()"
   ]
  },
  {
   "cell_type": "code",
   "execution_count": null,
   "id": "f3d5b388",
   "metadata": {},
   "outputs": [],
   "source": [
    "df['city'].value_counts()"
   ]
  },
  {
   "cell_type": "markdown",
   "id": "cfb89907",
   "metadata": {},
   "source": [
    "### Grouping data"
   ]
  },
  {
   "cell_type": "code",
   "execution_count": null,
   "id": "f2673a31",
   "metadata": {},
   "outputs": [],
   "source": [
    "# we specify which columns to be returned, because not all columns are of number value and we cannot calculate mean for all columns\n",
    "df.groupby('city')[['income', 'experience']].mean()"
   ]
  },
  {
   "cell_type": "code",
   "execution_count": null,
   "id": "f618a433",
   "metadata": {},
   "outputs": [],
   "source": [
    "double_group = df.groupby(['city', 'smoker'])[['income', 'experience']].mean()\n",
    "print(double_group.loc[('Sofia', 'No')])\n",
    "double_group"
   ]
  },
  {
   "cell_type": "markdown",
   "id": "e21a7f93",
   "metadata": {},
   "source": [
    "### Concatenation"
   ]
  },
  {
   "cell_type": "code",
   "execution_count": null,
   "id": "85001a13",
   "metadata": {},
   "outputs": [],
   "source": [
    "data_one = {'A': ['A0', 'A1', 'A2', 'A3'],'B': ['B0', 'B1', 'B2', 'B3']}\n",
    "data_two = {'C': ['C0', 'C1', 'C2', 'C3'], 'D': ['D0', 'D1', 'D2', 'D3']}\n",
    "\n",
    "one = pd.DataFrame(data_one)\n",
    "two = pd.DataFrame(data_two)\n",
    "\n",
    "axis1 = pd.concat([one, two], axis=1)\n",
    "axis1"
   ]
  },
  {
   "cell_type": "markdown",
   "id": "b3adfc49",
   "metadata": {},
   "source": [
    "### Merge"
   ]
  },
  {
   "cell_type": "code",
   "execution_count": null,
   "id": "916958c3",
   "metadata": {},
   "outputs": [],
   "source": [
    "people_one = pd.DataFrame({'in_id':[1,2,3,4],'name':['Ani','Biser','Valeri','Georgi']})\n",
    "people_two = pd.DataFrame({'out_id':[1,2,3,4],'name':['Jana','Ani','Ioana','Biser']})\n",
    "\n",
    "pd.merge(people_one, people_two, how='inner', on='name')"
   ]
  }
 ],
 "metadata": {
  "kernelspec": {
   "display_name": "Python 3 (ipykernel)",
   "language": "python",
   "name": "python3"
  },
  "language_info": {
   "codemirror_mode": {
    "name": "ipython",
    "version": 3
   },
   "file_extension": ".py",
   "mimetype": "text/x-python",
   "name": "python",
   "nbconvert_exporter": "python",
   "pygments_lexer": "ipython3",
   "version": "3.10.9"
  }
 },
 "nbformat": 4,
 "nbformat_minor": 5
}
