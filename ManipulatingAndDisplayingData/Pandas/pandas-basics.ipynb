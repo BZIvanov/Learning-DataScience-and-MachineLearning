{
 "cells": [
  {
   "cell_type": "code",
   "execution_count": null,
   "id": "5ca24a35",
   "metadata": {},
   "outputs": [],
   "source": [
    "import numpy as np\n",
    "import pandas as pd"
   ]
  },
  {
   "cell_type": "code",
   "execution_count": null,
   "id": "f6c8c1b7",
   "metadata": {},
   "outputs": [],
   "source": [
    "index_column = ['USA', 'Canada', 'Mexico']\n",
    "years_data_column = [2000, 2001, 2009]\n",
    "\n",
    "my_table = pd.Series(data=years_data_column, index=index_column)\n",
    "print(my_table)\n",
    "# Pandas tables also receive number index column\n",
    "print(my_table[0])\n",
    "print(my_table['USA'])"
   ]
  },
  {
   "cell_type": "code",
   "execution_count": null,
   "id": "618c37a2",
   "metadata": {},
   "outputs": [],
   "source": [
    "fruits = {'kiwi': 5, 'apple': 2, 'banana': 3}\n",
    "print(pd.Series(fruits))"
   ]
  },
  {
   "cell_type": "code",
   "execution_count": null,
   "id": "6d92b8f9",
   "metadata": {},
   "outputs": [],
   "source": [
    "list_one = {'Iva': 80, 'Georgi': 450, 'Mila': 200, 'Elena': 250}\n",
    "list_two = {'Miro': 100,'Georgi': 500, 'Iva': 210,'Jana': 260}\n",
    "\n",
    "incomes_one = pd.Series(list_one)\n",
    "incomes_two = pd.Series(list_two)"
   ]
  },
  {
   "cell_type": "code",
   "execution_count": null,
   "id": "3291e63f",
   "metadata": {},
   "outputs": [],
   "source": [
    "list_one.keys()"
   ]
  },
  {
   "cell_type": "code",
   "execution_count": null,
   "id": "f8736d7a",
   "metadata": {},
   "outputs": [],
   "source": [
    "# this way we can add the 2 tables and where a key is missing in one of the tables we will use 0 as default value\n",
    "# the result column is floating numbers after we used mathematical operation\n",
    "incomes_one.add(incomes_two, fill_value=0)"
   ]
  },
  {
   "cell_type": "markdown",
   "id": "96c04ef5",
   "metadata": {},
   "source": [
    "### Working with random data table"
   ]
  },
  {
   "cell_type": "code",
   "execution_count": null,
   "id": "7916cd6f",
   "metadata": {},
   "outputs": [],
   "source": [
    "np.random.seed(199)\n",
    "my_data = np.random.randint(0, 101, (4, 3))\n",
    "my_data"
   ]
  },
  {
   "cell_type": "code",
   "execution_count": null,
   "id": "8719a537",
   "metadata": {},
   "outputs": [],
   "source": [
    "my_index = ['Iva', 'Eli', 'Gosho', 'Ivan']\n",
    "my_columns = ['Q1', 'Q2', 'Q3']"
   ]
  },
  {
   "cell_type": "code",
   "execution_count": null,
   "id": "3add0d19",
   "metadata": {},
   "outputs": [],
   "source": [
    "df = pd.DataFrame(my_data, index=my_index, columns = my_columns)\n",
    "df"
   ]
  },
  {
   "cell_type": "code",
   "execution_count": null,
   "id": "54a513d5",
   "metadata": {},
   "outputs": [],
   "source": [
    "df.info()"
   ]
  }
 ],
 "metadata": {
  "kernelspec": {
   "display_name": "Python 3 (ipykernel)",
   "language": "python",
   "name": "python3"
  },
  "language_info": {
   "codemirror_mode": {
    "name": "ipython",
    "version": 3
   },
   "file_extension": ".py",
   "mimetype": "text/x-python",
   "name": "python",
   "nbconvert_exporter": "python",
   "pygments_lexer": "ipython3",
   "version": "3.10.9"
  }
 },
 "nbformat": 4,
 "nbformat_minor": 5
}
