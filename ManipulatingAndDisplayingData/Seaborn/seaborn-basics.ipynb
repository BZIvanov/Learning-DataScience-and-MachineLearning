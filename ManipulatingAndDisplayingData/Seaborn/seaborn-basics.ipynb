{
 "cells": [
  {
   "cell_type": "code",
   "execution_count": null,
   "id": "5ca24a35",
   "metadata": {},
   "outputs": [],
   "source": [
    "import numpy as np\n",
    "import pandas as pd\n",
    "import matplotlib.pyplot as plt\n",
    "import seaborn as sns"
   ]
  },
  {
   "cell_type": "code",
   "execution_count": null,
   "id": "4c5a98fe",
   "metadata": {},
   "outputs": [],
   "source": [
    "df = pd.read_csv(\"my-users.csv\")\n",
    "df.head()"
   ]
  },
  {
   "cell_type": "markdown",
   "id": "830fccc7",
   "metadata": {},
   "source": [
    "### Scatterplot"
   ]
  },
  {
   "cell_type": "code",
   "execution_count": null,
   "id": "4472c457",
   "metadata": {},
   "outputs": [],
   "source": [
    "# seaborn is built on top of matplotlib so we can still use matplotlib to additionally configure seaborn\n",
    "plt.figure(figsize=(9, 5))\n",
    "sns.scatterplot(x='income', y='experience', data=df)"
   ]
  },
  {
   "cell_type": "code",
   "execution_count": null,
   "id": "eba169e1",
   "metadata": {},
   "outputs": [],
   "source": [
    "plt.figure(figsize=(9, 5))\n",
    "sns.scatterplot(x='income', y='experience', data=df, hue='department')"
   ]
  },
  {
   "cell_type": "markdown",
   "id": "27c9543b",
   "metadata": {},
   "source": [
    "### Ruglot"
   ]
  },
  {
   "cell_type": "code",
   "execution_count": null,
   "id": "d35c40b3",
   "metadata": {},
   "outputs": [],
   "source": [
    "sns.rugplot(x='income', data=df, height=0.2)"
   ]
  },
  {
   "cell_type": "markdown",
   "id": "f4f247b4",
   "metadata": {},
   "source": [
    "### Displot"
   ]
  },
  {
   "cell_type": "code",
   "execution_count": null,
   "id": "83dd7f4f",
   "metadata": {},
   "outputs": [],
   "source": [
    "sns.displot(x='income', data=df, bins=6, kde=True)"
   ]
  },
  {
   "cell_type": "markdown",
   "id": "46015baf",
   "metadata": {},
   "source": [
    "### Countplot"
   ]
  },
  {
   "cell_type": "code",
   "execution_count": null,
   "id": "78c86318",
   "metadata": {},
   "outputs": [],
   "source": [
    "sns.countplot(x='department', data=df)"
   ]
  },
  {
   "cell_type": "code",
   "execution_count": null,
   "id": "449046c2",
   "metadata": {},
   "outputs": [],
   "source": [
    "sns.countplot(x='department', data=df, hue='smoker')"
   ]
  },
  {
   "cell_type": "markdown",
   "id": "10dcfa2e",
   "metadata": {},
   "source": [
    "### Barplot"
   ]
  },
  {
   "cell_type": "code",
   "execution_count": null,
   "id": "6513677e",
   "metadata": {},
   "outputs": [],
   "source": [
    "# errorbar='sd' -> sd - standard deviation\n",
    "sns.barplot(data=df, x='department', y='income', estimator=np.mean, errorbar='sd')"
   ]
  },
  {
   "cell_type": "markdown",
   "id": "1210fbcd",
   "metadata": {},
   "source": [
    "### Boxplot"
   ]
  },
  {
   "cell_type": "code",
   "execution_count": null,
   "id": "0ec07e0f",
   "metadata": {},
   "outputs": [],
   "source": [
    "sns.boxplot(data=df, x='department', y='income')"
   ]
  },
  {
   "cell_type": "markdown",
   "id": "f6646735",
   "metadata": {},
   "source": [
    "### Violinplot"
   ]
  },
  {
   "cell_type": "code",
   "execution_count": null,
   "id": "2e65ecc3",
   "metadata": {},
   "outputs": [],
   "source": [
    "sns.violinplot(data=df, x='department', y='income')"
   ]
  },
  {
   "cell_type": "markdown",
   "id": "3f52709c",
   "metadata": {},
   "source": [
    "### Pairplot"
   ]
  },
  {
   "cell_type": "code",
   "execution_count": null,
   "id": "7e972c6d",
   "metadata": {},
   "outputs": [],
   "source": [
    "sns.pairplot(data=df, hue='gender', corner=True)"
   ]
  },
  {
   "cell_type": "markdown",
   "id": "c591f6a5",
   "metadata": {},
   "source": [
    "### Heatmap"
   ]
  },
  {
   "cell_type": "code",
   "execution_count": null,
   "id": "6272d025",
   "metadata": {},
   "outputs": [],
   "source": [
    "np.random.seed(42)\n",
    "data = np.random.rand(5, 5)\n",
    "df = pd.DataFrame(data, columns=['Column 1', 'Column 2', 'Column 3', 'Column 4', 'Column 5'])\n",
    "\n",
    "vertical_labels = ['Row 1', 'Row 2', 'Row 3', 'Row 4', 'Row 5']\n",
    "\n",
    "sns.heatmap(df, annot=True, cmap='YlGnBu', cbar=False, yticklabels=vertical_labels)"
   ]
  }
 ],
 "metadata": {
  "kernelspec": {
   "display_name": "Python 3 (ipykernel)",
   "language": "python",
   "name": "python3"
  },
  "language_info": {
   "codemirror_mode": {
    "name": "ipython",
    "version": 3
   },
   "file_extension": ".py",
   "mimetype": "text/x-python",
   "name": "python",
   "nbconvert_exporter": "python",
   "pygments_lexer": "ipython3",
   "version": "3.10.9"
  }
 },
 "nbformat": 4,
 "nbformat_minor": 5
}
