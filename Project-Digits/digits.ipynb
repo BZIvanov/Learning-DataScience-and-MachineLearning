{
 "cells": [
  {
   "cell_type": "markdown",
   "id": "8e158548",
   "metadata": {},
   "source": [
    "# Digits Project"
   ]
  },
  {
   "cell_type": "markdown",
   "id": "b4667106",
   "metadata": {},
   "source": [
    "## About the project\n",
    "\n",
    "The project is about telling which handwritten numbers are hardest to be correctly transformed to digits using image recognition. The idea is that for the hardest image recognition handwritten numbers we want to prepare more training data so we can become better in guesssing them right. But for which digits we should use more training data to be able to guess them correctly?"
   ]
  },
  {
   "cell_type": "markdown",
   "id": "27a53446",
   "metadata": {},
   "source": [
    "## About the data\n",
    "\n",
    "The data source is the `digits.csv` file.\n",
    "\n",
    "|Column| Definiton|\n",
    "|---|---|\n",
    "|pixel_x_x|All the columns in this format are pixel positions for a handwritten number|\n",
    "|number_label|The actual number which was handwritten|\n",
    "\n",
    "Note that we have 64 pixel columns. The actual image is 8x8 pixels, which means every 8 columns are a new row."
   ]
  },
  {
   "cell_type": "markdown",
   "id": "13a2ba99",
   "metadata": {},
   "source": [
    "## Solution"
   ]
  },
  {
   "cell_type": "code",
   "execution_count": null,
   "id": "b9f43f42",
   "metadata": {},
   "outputs": [],
   "source": [
    "import numpy as np\n",
    "import pandas as pd\n",
    "import matplotlib.pyplot as plt\n",
    "import seaborn as sns"
   ]
  },
  {
   "cell_type": "markdown",
   "id": "ef0141da",
   "metadata": {},
   "source": [
    "### Data exploration"
   ]
  },
  {
   "cell_type": "code",
   "execution_count": null,
   "id": "192783c4",
   "metadata": {},
   "outputs": [],
   "source": [
    "digits = pd.read_csv('digits.csv')\n",
    "digits"
   ]
  },
  {
   "cell_type": "markdown",
   "id": "393557f1",
   "metadata": {},
   "source": [
    "Get only the pixels columns from the original dataset"
   ]
  },
  {
   "cell_type": "code",
   "execution_count": null,
   "id": "54bb1ba8",
   "metadata": {},
   "outputs": [],
   "source": [
    "pixels = digits.drop('number_label', axis=1)\n",
    "pixels"
   ]
  },
  {
   "cell_type": "markdown",
   "id": "179bc6a2",
   "metadata": {},
   "source": [
    "Let's use and display the first row from the dataframe as an example"
   ]
  },
  {
   "cell_type": "code",
   "execution_count": null,
   "id": "08d77057",
   "metadata": {},
   "outputs": [],
   "source": [
    "first_image = pixels.iloc[0]\n",
    "first_image"
   ]
  },
  {
   "cell_type": "markdown",
   "id": "158bb6fc",
   "metadata": {},
   "source": [
    "Let's also convert the row series into a numpy array so we can use it as our image source"
   ]
  },
  {
   "cell_type": "code",
   "execution_count": null,
   "id": "1fc77ef9",
   "metadata": {},
   "outputs": [],
   "source": [
    "first_image.to_numpy()"
   ]
  },
  {
   "cell_type": "code",
   "execution_count": null,
   "id": "07f9bd50",
   "metadata": {},
   "outputs": [],
   "source": [
    "first_image.to_numpy().shape"
   ]
  },
  {
   "cell_type": "markdown",
   "id": "9f958e3c",
   "metadata": {},
   "source": [
    "Transform the 64 row columns in 8x8 matrix to have it in a image form"
   ]
  },
  {
   "cell_type": "code",
   "execution_count": null,
   "id": "24a42bc1",
   "metadata": {},
   "outputs": [],
   "source": [
    "first_image.to_numpy().reshape(8, 8)"
   ]
  },
  {
   "cell_type": "markdown",
   "id": "9855da76",
   "metadata": {},
   "source": [
    "Let's use the pixel matrix to draw the image. We can see that it is the digit 4"
   ]
  },
  {
   "cell_type": "code",
   "execution_count": null,
   "id": "448eedb6",
   "metadata": {},
   "outputs": [],
   "source": [
    "plt.imshow(first_image.to_numpy().reshape(8, 8))"
   ]
  },
  {
   "cell_type": "markdown",
   "id": "f2cc4689",
   "metadata": {},
   "source": [
    "Gray color version of the image"
   ]
  },
  {
   "cell_type": "code",
   "execution_count": null,
   "id": "7e627837",
   "metadata": {},
   "outputs": [],
   "source": [
    "plt.imshow(first_image.to_numpy().reshape(8, 8), cmap='gray')"
   ]
  },
  {
   "cell_type": "code",
   "execution_count": null,
   "id": "6dbb5612",
   "metadata": {},
   "outputs": [],
   "source": [
    "sns.heatmap(first_image.to_numpy().reshape(8, 8), annot=True, cmap='gray')"
   ]
  },
  {
   "cell_type": "markdown",
   "id": "58877a83",
   "metadata": {},
   "source": [
    "### Scaling Data"
   ]
  },
  {
   "cell_type": "code",
   "execution_count": null,
   "id": "691863f3",
   "metadata": {},
   "outputs": [],
   "source": [
    "from sklearn.preprocessing import StandardScaler"
   ]
  },
  {
   "cell_type": "code",
   "execution_count": null,
   "id": "44fd3547",
   "metadata": {},
   "outputs": [],
   "source": [
    "scaler = StandardScaler()\n",
    "scaled_pixels = scaler.fit_transform(pixels)\n",
    "scaled_pixels"
   ]
  },
  {
   "cell_type": "markdown",
   "id": "9f54b1d8",
   "metadata": {},
   "source": [
    "### Principal component analysis"
   ]
  },
  {
   "cell_type": "code",
   "execution_count": null,
   "id": "349c08ad",
   "metadata": {},
   "outputs": [],
   "source": [
    "from sklearn.decomposition import PCA"
   ]
  },
  {
   "cell_type": "code",
   "execution_count": null,
   "id": "b818c56b",
   "metadata": {},
   "outputs": [],
   "source": [
    "pca_model = PCA(n_components=2)"
   ]
  },
  {
   "cell_type": "code",
   "execution_count": null,
   "id": "4f14a4c5",
   "metadata": {},
   "outputs": [],
   "source": [
    "pca_pixels = pca_model.fit_transform(scaled_pixels)"
   ]
  },
  {
   "cell_type": "markdown",
   "id": "a6c39dba",
   "metadata": {},
   "source": [
    "Let's check how much variance is explained by the 2 principal components"
   ]
  },
  {
   "cell_type": "code",
   "execution_count": null,
   "id": "9ba27557",
   "metadata": {},
   "outputs": [],
   "source": [
    "np.sum(pca_model.explained_variance_ratio_)"
   ]
  },
  {
   "cell_type": "markdown",
   "id": "8d546bd2",
   "metadata": {},
   "source": [
    "Let's create a scatterplot of the digits in the 2 dimensional PCA space, color/label based on the original number_label column in the original dataset."
   ]
  },
  {
   "cell_type": "markdown",
   "id": "5fedb20a",
   "metadata": {},
   "source": [
    "We can see that the digit `4` is very easy to be recognized and the digit `8` is not easy. Which means we will need to prepare much more `8` digits for our algorithm to have it better trained in recognizing the digit `8` without mistaking it with other digits."
   ]
  },
  {
   "cell_type": "code",
   "execution_count": null,
   "id": "59d9cbb3",
   "metadata": {},
   "outputs": [],
   "source": [
    "plt.figure(figsize=(10, 6))\n",
    "sns.scatterplot(x=pca_pixels[:,0], y=pca_pixels[:,1], hue=digits['number_label'].values, palette='Set1')\n",
    "plt.legend(loc=(1.05, 0))"
   ]
  },
  {
   "cell_type": "markdown",
   "id": "0cb424b4",
   "metadata": {},
   "source": [
    "### 3D version of our PCA"
   ]
  },
  {
   "cell_type": "markdown",
   "id": "c3535f2d",
   "metadata": {},
   "source": [
    "Below is 3d example version of the above findings. We will also use 3 pca components for it."
   ]
  },
  {
   "cell_type": "code",
   "execution_count": null,
   "id": "38b62bdd",
   "metadata": {},
   "outputs": [],
   "source": [
    "pca_model = PCA(n_components=3)"
   ]
  },
  {
   "cell_type": "code",
   "execution_count": null,
   "id": "0817a08a",
   "metadata": {},
   "outputs": [],
   "source": [
    "pca_pixels = pca_model.fit_transform(scaled_pixels)"
   ]
  },
  {
   "cell_type": "code",
   "execution_count": null,
   "id": "cabe623f",
   "metadata": {},
   "outputs": [],
   "source": [
    "from mpl_toolkits import mplot3d"
   ]
  },
  {
   "cell_type": "code",
   "execution_count": null,
   "id": "14cf750f",
   "metadata": {},
   "outputs": [],
   "source": [
    "# the below command will make the notebook image interactive\n",
    "%matplotlib notebook\n",
    "\n",
    "plt.figure(figsize=(8, 8))\n",
    "ax = plt.axes(projection='3d')\n",
    "ax.scatter3D(pca_pixels[:,0], pca_pixels[:,1], pca_pixels[:,2], c=digits['number_label']);"
   ]
  }
 ],
 "metadata": {
  "kernelspec": {
   "display_name": "Python 3 (ipykernel)",
   "language": "python",
   "name": "python3"
  },
  "language_info": {
   "codemirror_mode": {
    "name": "ipython",
    "version": 3
   },
   "file_extension": ".py",
   "mimetype": "text/x-python",
   "name": "python",
   "nbconvert_exporter": "python",
   "pygments_lexer": "ipython3",
   "version": "3.10.9"
  }
 },
 "nbformat": 4,
 "nbformat_minor": 5
}
