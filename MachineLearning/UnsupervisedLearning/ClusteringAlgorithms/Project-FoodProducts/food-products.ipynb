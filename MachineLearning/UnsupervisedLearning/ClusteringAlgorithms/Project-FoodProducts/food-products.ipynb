{
 "cells": [
  {
   "cell_type": "markdown",
   "id": "8e158548",
   "metadata": {},
   "source": [
    "# Food Products Project"
   ]
  },
  {
   "cell_type": "markdown",
   "id": "406c4ec2",
   "metadata": {},
   "source": [
    "## About the project\n",
    "\n",
    "Unsupervised learning"
   ]
  },
  {
   "cell_type": "markdown",
   "id": "6e5ed382",
   "metadata": {},
   "source": [
    "## About the data\n",
    "\n",
    "The data source is the `food-products.csv` file\n",
    "\n",
    "Column | Definiton\n",
    "--- | ---------\n",
    "Channel | Customer channel (1 = internal; 2 = external)\n",
    "Region | Customer regions (1  = North; 2 = South; 3 = West)\n",
    "Fresh | Spendings on fresh products\n",
    "Milk | Spendings on milk products\n",
    "Grocery | Spendings on grocery products\n",
    "Frozen | Spendings on frozen products\n",
    "Detergents_Paper | Spendings on detergents paper products\n",
    "Delicassen | Spendings on delicatessen products"
   ]
  },
  {
   "cell_type": "markdown",
   "id": "6addc23d",
   "metadata": {},
   "source": [
    "## Solution"
   ]
  },
  {
   "cell_type": "code",
   "execution_count": null,
   "id": "b9f43f42",
   "metadata": {},
   "outputs": [],
   "source": [
    "import numpy as np\n",
    "import pandas as pd\n",
    "import matplotlib.pyplot as plt\n",
    "import seaborn as sns"
   ]
  },
  {
   "cell_type": "markdown",
   "id": "9a308b4c",
   "metadata": {},
   "source": [
    "### Data exploratory analysis"
   ]
  },
  {
   "cell_type": "code",
   "execution_count": null,
   "id": "4cfa8997",
   "metadata": {},
   "outputs": [],
   "source": [
    "df = pd.read_csv('food-products.csv')\n",
    "df.head()"
   ]
  },
  {
   "cell_type": "markdown",
   "id": "8dc896d5",
   "metadata": {},
   "source": [
    "Let's create a scatterplot showing the relation between MILK and GROCERY spending, colored by Channel column.\n",
    "\n",
    "We can see that external channel customers are spending more on milk and grocery."
   ]
  },
  {
   "cell_type": "code",
   "execution_count": null,
   "id": "d4f64d5b",
   "metadata": {},
   "outputs": [],
   "source": [
    "sns.scatterplot(data=df,x='Milk', y='Grocery', hue='Channel')"
   ]
  },
  {
   "cell_type": "code",
   "execution_count": null,
   "id": "95ca6b56",
   "metadata": {},
   "outputs": [],
   "source": [
    "sns.histplot(df, x='Milk', hue='Channel', multiple=\"stack\")"
   ]
  },
  {
   "cell_type": "markdown",
   "id": "fb0b8a2d",
   "metadata": {},
   "source": [
    "Let's create annotated clustermap of the correlations between spending on different products."
   ]
  },
  {
   "cell_type": "code",
   "execution_count": null,
   "id": "ef9f47ce",
   "metadata": {},
   "outputs": [],
   "source": [
    "sns.clustermap(df.drop(['Region', 'Channel'], axis=1).corr(), annot=True);"
   ]
  },
  {
   "cell_type": "markdown",
   "id": "a4b7dfb5",
   "metadata": {},
   "source": [
    "### Data scaling"
   ]
  },
  {
   "cell_type": "markdown",
   "id": "e720f0b6",
   "metadata": {},
   "source": [
    "Since the values of the features are in different orders of magnitude, let's scale the data."
   ]
  },
  {
   "cell_type": "code",
   "execution_count": null,
   "id": "14e87cc5",
   "metadata": {},
   "outputs": [],
   "source": [
    "from sklearn.preprocessing import StandardScaler"
   ]
  },
  {
   "cell_type": "code",
   "execution_count": null,
   "id": "ec88c666",
   "metadata": {},
   "outputs": [],
   "source": [
    "scaler = StandardScaler()\n",
    "scaled_X = scaler.fit_transform(df)\n",
    "scaled_X"
   ]
  },
  {
   "cell_type": "markdown",
   "id": "946a2897",
   "metadata": {},
   "source": [
    "### DBSCAN"
   ]
  },
  {
   "cell_type": "code",
   "execution_count": null,
   "id": "6cb44319",
   "metadata": {},
   "outputs": [],
   "source": [
    "from sklearn.cluster import DBSCAN"
   ]
  },
  {
   "cell_type": "code",
   "execution_count": null,
   "id": "49cb449a",
   "metadata": {},
   "outputs": [],
   "source": [
    "outlier_percent = []\n",
    "\n",
    "for eps in np.linspace(0.001, 3, 50):\n",
    "    \n",
    "    # create model\n",
    "    dbscan = DBSCAN(eps=eps, min_samples=2 * scaled_X.shape[1])\n",
    "    dbscan.fit(scaled_X)\n",
    "     \n",
    "    # log percentage of points that are outliers\n",
    "    percent_outliers = 100 * np.sum(dbscan.labels_ == -1) / len(dbscan.labels_)\n",
    "    \n",
    "    outlier_percent.append(percent_outliers)"
   ]
  },
  {
   "cell_type": "markdown",
   "id": "b27f44a1",
   "metadata": {},
   "source": [
    "Let's line plot the percentage of outlier points versus the epsilon value choice."
   ]
  },
  {
   "cell_type": "code",
   "execution_count": null,
   "id": "0f345900",
   "metadata": {},
   "outputs": [],
   "source": [
    "sns.lineplot(x=np.linspace(0.001, 3, 50), y=outlier_percent)\n",
    "plt.ylabel(\"Percentage of points classified as outliers\")\n",
    "plt.xlabel(\"Epsilon value\")"
   ]
  },
  {
   "cell_type": "markdown",
   "id": "0b672bbc",
   "metadata": {},
   "source": [
    "Based on the above line plot we will choose epsilon value = 2"
   ]
  },
  {
   "cell_type": "markdown",
   "id": "0b791b09",
   "metadata": {},
   "source": [
    "### DBSCAN with Chosen Epsilon"
   ]
  },
  {
   "cell_type": "code",
   "execution_count": null,
   "id": "0cc27654",
   "metadata": {},
   "outputs": [],
   "source": [
    "dbscan = DBSCAN(eps=2, min_samples=scaled_X.shape[1])\n",
    "dbscan.fit(scaled_X)"
   ]
  },
  {
   "cell_type": "code",
   "execution_count": null,
   "id": "b5d5d0f7",
   "metadata": {},
   "outputs": [],
   "source": [
    "sns.scatterplot(data=df, x='Grocery', y='Milk', hue=dbscan.labels_, palette='Set1')"
   ]
  },
  {
   "cell_type": "code",
   "execution_count": null,
   "id": "d1d3892e",
   "metadata": {},
   "outputs": [],
   "source": [
    "sns.scatterplot(data=df, x='Detergents_Paper', y='Milk', hue=dbscan.labels_, palette='Set1')"
   ]
  },
  {
   "cell_type": "markdown",
   "id": "3184e863",
   "metadata": {},
   "source": [
    "Let's create a new column on the original dataframe called \"Labels\" consisting of the DBSCAN labels."
   ]
  },
  {
   "cell_type": "code",
   "execution_count": null,
   "id": "41e73a4f",
   "metadata": {},
   "outputs": [],
   "source": [
    "df['Labels'] = dbscan.labels_\n",
    "df.head()"
   ]
  },
  {
   "cell_type": "markdown",
   "id": "6546a65d",
   "metadata": {},
   "source": [
    "Let's compare the statistical mean of the clusters and outliers for the spending amounts on the categories."
   ]
  },
  {
   "cell_type": "code",
   "execution_count": null,
   "id": "bc854c36",
   "metadata": {},
   "outputs": [],
   "source": [
    "categories = df.drop(['Channel','Region'], axis=1)\n",
    "categories_means = categories.groupby('Labels').mean()\n",
    "categories_means"
   ]
  },
  {
   "cell_type": "markdown",
   "id": "56638f18",
   "metadata": {},
   "source": [
    "Let's also normalize the dataframe so the spending means go from 0-1"
   ]
  },
  {
   "cell_type": "code",
   "execution_count": null,
   "id": "9d44b2e6",
   "metadata": {},
   "outputs": [],
   "source": [
    "from sklearn.preprocessing import MinMaxScaler"
   ]
  },
  {
   "cell_type": "code",
   "execution_count": null,
   "id": "ba489091",
   "metadata": {},
   "outputs": [],
   "source": [
    "scaler = MinMaxScaler()\n",
    "data = scaler.fit_transform(categories_means)\n",
    "scaled_means = pd.DataFrame(data, categories_means.index, categories_means.columns)\n",
    "scaled_means"
   ]
  },
  {
   "cell_type": "code",
   "execution_count": null,
   "id": "7bfeb657",
   "metadata": {},
   "outputs": [],
   "source": [
    "sns.heatmap(scaled_means)"
   ]
  },
  {
   "cell_type": "code",
   "execution_count": null,
   "id": "f9590c2d",
   "metadata": {},
   "outputs": [],
   "source": [
    "sns.heatmap(scaled_means.loc[[0, 1]], annot=True)"
   ]
  },
  {
   "cell_type": "markdown",
   "id": "84d56eb4",
   "metadata": {},
   "source": [
    "We can see that Detergents Paper was the most significant difference."
   ]
  }
 ],
 "metadata": {
  "kernelspec": {
   "display_name": "Python 3 (ipykernel)",
   "language": "python",
   "name": "python3"
  },
  "language_info": {
   "codemirror_mode": {
    "name": "ipython",
    "version": 3
   },
   "file_extension": ".py",
   "mimetype": "text/x-python",
   "name": "python",
   "nbconvert_exporter": "python",
   "pygments_lexer": "ipython3",
   "version": "3.10.9"
  }
 },
 "nbformat": 4,
 "nbformat_minor": 5
}
