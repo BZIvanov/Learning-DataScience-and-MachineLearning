{
 "cells": [
  {
   "cell_type": "markdown",
   "id": "8e158548",
   "metadata": {},
   "source": [
    "# Principal Component Analysis"
   ]
  },
  {
   "cell_type": "code",
   "execution_count": null,
   "id": "b9f43f42",
   "metadata": {},
   "outputs": [],
   "source": [
    "import numpy as np\n",
    "import pandas as pd\n",
    "import matplotlib.pyplot as plt\n",
    "import seaborn as sns"
   ]
  },
  {
   "cell_type": "code",
   "execution_count": null,
   "id": "e5a34fd4",
   "metadata": {},
   "outputs": [],
   "source": [
    "df = pd.read_csv('pca.csv')\n",
    "df"
   ]
  },
  {
   "cell_type": "code",
   "execution_count": null,
   "id": "00315d66",
   "metadata": {},
   "outputs": [],
   "source": [
    "from sklearn.preprocessing import StandardScaler"
   ]
  },
  {
   "cell_type": "code",
   "execution_count": null,
   "id": "86364aad",
   "metadata": {},
   "outputs": [],
   "source": [
    "scaler = StandardScaler()\n",
    "scaled_X = scaler.fit_transform(df)\n",
    "scaled_X"
   ]
  },
  {
   "cell_type": "code",
   "execution_count": null,
   "id": "4f85cb9b",
   "metadata": {},
   "outputs": [],
   "source": [
    "from sklearn.decomposition import PCA"
   ]
  },
  {
   "cell_type": "code",
   "execution_count": null,
   "id": "d4863957",
   "metadata": {},
   "outputs": [],
   "source": [
    "pca = PCA(n_components=2)\n",
    "principal_components = pca.fit_transform(scaled_X)"
   ]
  },
  {
   "cell_type": "code",
   "execution_count": null,
   "id": "acdb3e9d",
   "metadata": {},
   "outputs": [],
   "source": [
    "plt.scatter(principal_components[:,0], principal_components[:,1])\n",
    "plt.xlabel('First principal component')\n",
    "plt.ylabel('Second Principal Component')"
   ]
  },
  {
   "cell_type": "markdown",
   "id": "5c7dfc9d",
   "metadata": {},
   "source": [
    "The number of components we requested"
   ]
  },
  {
   "cell_type": "code",
   "execution_count": null,
   "id": "301a8c74",
   "metadata": {},
   "outputs": [],
   "source": [
    "pca.n_components"
   ]
  },
  {
   "cell_type": "code",
   "execution_count": null,
   "id": "6b764664",
   "metadata": {},
   "outputs": [],
   "source": [
    "pca.components_"
   ]
  },
  {
   "cell_type": "code",
   "execution_count": null,
   "id": "bc6c0f60",
   "metadata": {},
   "outputs": [],
   "source": [
    "df_comp = pd.DataFrame(pca.components_, index=['PC1', 'PC2'], columns=df.columns)\n",
    "df_comp"
   ]
  },
  {
   "cell_type": "code",
   "execution_count": null,
   "id": "751f25dd",
   "metadata": {},
   "outputs": [],
   "source": [
    "plt.figure(figsize=(10, 2))\n",
    "sns.heatmap(df_comp, annot=True)"
   ]
  },
  {
   "cell_type": "markdown",
   "id": "ab0a0b62",
   "metadata": {},
   "source": [
    "We can see that the first component explains 33% percents of the data and the second 22%. In total they explain 55% of the data"
   ]
  },
  {
   "cell_type": "code",
   "execution_count": null,
   "id": "587af805",
   "metadata": {},
   "outputs": [],
   "source": [
    "pca.explained_variance_ratio_"
   ]
  },
  {
   "cell_type": "code",
   "execution_count": null,
   "id": "8e91d4a5",
   "metadata": {},
   "outputs": [],
   "source": [
    "np.sum(pca.explained_variance_ratio_)"
   ]
  },
  {
   "cell_type": "markdown",
   "id": "44f52108",
   "metadata": {},
   "source": [
    "So if we set n_components to equal all features then of course we expect to explain 100% of data"
   ]
  },
  {
   "cell_type": "code",
   "execution_count": null,
   "id": "02446f60",
   "metadata": {},
   "outputs": [],
   "source": [
    "# our original dataframe has 8 features so we set 8 as a value\n",
    "pca_8 = PCA(n_components=8)\n",
    "pca_8.fit(scaled_X)"
   ]
  },
  {
   "cell_type": "code",
   "execution_count": null,
   "id": "8f2e3e6f",
   "metadata": {},
   "outputs": [],
   "source": [
    "pca_8.explained_variance_ratio_"
   ]
  },
  {
   "cell_type": "code",
   "execution_count": null,
   "id": "fc268c77",
   "metadata": {},
   "outputs": [],
   "source": [
    "np.sum(pca_8.explained_variance_ratio_)"
   ]
  },
  {
   "cell_type": "markdown",
   "id": "ac37e443",
   "metadata": {},
   "source": [
    "Below we will show how much data we explain with testing different n_components value. This way we can easily see how many percents data our components will explain for different **n_components** values."
   ]
  },
  {
   "cell_type": "code",
   "execution_count": null,
   "id": "d5ef086c",
   "metadata": {},
   "outputs": [],
   "source": [
    "explained_variance = []\n",
    "\n",
    "for n in range(1, 9):\n",
    "    pca = PCA(n_components=n)\n",
    "    pca.fit(scaled_X)\n",
    "    \n",
    "    explained_variance.append(np.sum(pca.explained_variance_ratio_))"
   ]
  },
  {
   "cell_type": "code",
   "execution_count": null,
   "id": "ddad3e4d",
   "metadata": {},
   "outputs": [],
   "source": [
    "plt.plot(range(1, 9), explained_variance)\n",
    "plt.xlabel(\"Number of Components\")\n",
    "plt.ylabel(\"Variance Explained\");"
   ]
  }
 ],
 "metadata": {
  "kernelspec": {
   "display_name": "Python 3 (ipykernel)",
   "language": "python",
   "name": "python3"
  },
  "language_info": {
   "codemirror_mode": {
    "name": "ipython",
    "version": 3
   },
   "file_extension": ".py",
   "mimetype": "text/x-python",
   "name": "python",
   "nbconvert_exporter": "python",
   "pygments_lexer": "ipython3",
   "version": "3.10.9"
  }
 },
 "nbformat": 4,
 "nbformat_minor": 5
}
