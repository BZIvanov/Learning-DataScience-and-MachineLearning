{
 "cells": [
  {
   "cell_type": "markdown",
   "id": "8e158548",
   "metadata": {},
   "source": [
    "# Decision Tree"
   ]
  },
  {
   "cell_type": "code",
   "execution_count": null,
   "id": "a1c6f8e9",
   "metadata": {},
   "outputs": [],
   "source": [
    "import pandas as pd\n",
    "import matplotlib.pyplot as plt\n",
    "import seaborn as sns"
   ]
  },
  {
   "cell_type": "markdown",
   "id": "bd84c9bc",
   "metadata": {},
   "source": [
    "## Exploratory Data Analysis and Visualization"
   ]
  },
  {
   "cell_type": "code",
   "execution_count": null,
   "id": "760e724b",
   "metadata": {},
   "outputs": [],
   "source": [
    "df = pd.read_csv(\"../../common-data/penguins_size.csv\")\n",
    "df = df.dropna()\n",
    "df.head()"
   ]
  },
  {
   "cell_type": "code",
   "execution_count": null,
   "id": "8d37b965",
   "metadata": {},
   "outputs": [],
   "source": [
    "df['species'].unique()"
   ]
  },
  {
   "cell_type": "code",
   "execution_count": null,
   "id": "dcf99737",
   "metadata": {},
   "outputs": [],
   "source": [
    "sns.scatterplot(data=df, x='culmen_length_mm', y='culmen_depth_mm', hue='species')"
   ]
  },
  {
   "cell_type": "code",
   "execution_count": null,
   "id": "959029cb",
   "metadata": {},
   "outputs": [],
   "source": [
    "sns.pairplot(df, hue='species')"
   ]
  },
  {
   "cell_type": "code",
   "execution_count": null,
   "id": "b4b7505c",
   "metadata": {},
   "outputs": [],
   "source": [
    "sns.catplot(data=df, x='species', y='culmen_length_mm', kind='box', col='sex')"
   ]
  },
  {
   "cell_type": "markdown",
   "id": "aaa87d3d",
   "metadata": {},
   "source": [
    "## Train and Test Splits"
   ]
  },
  {
   "cell_type": "code",
   "execution_count": null,
   "id": "a1332393",
   "metadata": {},
   "outputs": [],
   "source": [
    "from sklearn.model_selection import train_test_split"
   ]
  },
  {
   "cell_type": "code",
   "execution_count": null,
   "id": "5cead205",
   "metadata": {},
   "outputs": [],
   "source": [
    "X = pd.get_dummies(df.drop('species', axis=1), drop_first=True)\n",
    "y = df['species']"
   ]
  },
  {
   "cell_type": "code",
   "execution_count": null,
   "id": "b959bc6b",
   "metadata": {},
   "outputs": [],
   "source": [
    "X_train, X_test, y_train, y_test = train_test_split(X, y, test_size=0.3, random_state=99)"
   ]
  },
  {
   "cell_type": "markdown",
   "id": "d7bf3477",
   "metadata": {},
   "source": [
    "## Creating the model"
   ]
  },
  {
   "cell_type": "code",
   "execution_count": null,
   "id": "1078aa7c",
   "metadata": {},
   "outputs": [],
   "source": [
    "from sklearn.tree import DecisionTreeClassifier"
   ]
  },
  {
   "cell_type": "code",
   "execution_count": null,
   "id": "7f09e7be",
   "metadata": {},
   "outputs": [],
   "source": [
    "model = DecisionTreeClassifier()\n",
    "\n",
    "model.fit(X_train, y_train)"
   ]
  },
  {
   "cell_type": "markdown",
   "id": "bd3568df",
   "metadata": {},
   "source": [
    "## Predictions on the test data"
   ]
  },
  {
   "cell_type": "code",
   "execution_count": null,
   "id": "bb61c7e0",
   "metadata": {},
   "outputs": [],
   "source": [
    "y_pred = model.predict(X_test)\n",
    "y_pred"
   ]
  },
  {
   "cell_type": "markdown",
   "id": "de607979",
   "metadata": {},
   "source": [
    "## Model Performance"
   ]
  },
  {
   "cell_type": "code",
   "execution_count": null,
   "id": "ffc83046",
   "metadata": {},
   "outputs": [],
   "source": [
    "from sklearn.metrics import confusion_matrix, classification_report, ConfusionMatrixDisplay"
   ]
  },
  {
   "cell_type": "markdown",
   "id": "efceb762",
   "metadata": {},
   "source": [
    "### Confusion matrix"
   ]
  },
  {
   "cell_type": "code",
   "execution_count": null,
   "id": "39f4d51f",
   "metadata": {},
   "outputs": [],
   "source": [
    "cnf_matrix = confusion_matrix(y_test, y_pred)\n",
    "cnf_matrix"
   ]
  },
  {
   "cell_type": "code",
   "execution_count": null,
   "id": "6036b6d8",
   "metadata": {},
   "outputs": [],
   "source": [
    "disp = ConfusionMatrixDisplay(confusion_matrix=cnf_matrix)\n",
    "disp.plot()"
   ]
  },
  {
   "cell_type": "markdown",
   "id": "e299107d",
   "metadata": {},
   "source": [
    "### Classification report"
   ]
  },
  {
   "cell_type": "code",
   "execution_count": null,
   "id": "bdbc06a1",
   "metadata": {},
   "outputs": [],
   "source": [
    "print(classification_report(y_test, y_pred))"
   ]
  },
  {
   "cell_type": "markdown",
   "id": "37f0f798",
   "metadata": {},
   "source": [
    "### Feature importances"
   ]
  },
  {
   "cell_type": "code",
   "execution_count": null,
   "id": "579fdbab",
   "metadata": {},
   "outputs": [],
   "source": [
    "model.feature_importances_"
   ]
  },
  {
   "cell_type": "code",
   "execution_count": null,
   "id": "ea5038f1",
   "metadata": {},
   "outputs": [],
   "source": [
    "pd.DataFrame(index=X.columns, data=model.feature_importances_, columns=['Feature Importance']).sort_values('Feature Importance')"
   ]
  },
  {
   "cell_type": "code",
   "execution_count": null,
   "id": "3639e1c9",
   "metadata": {},
   "outputs": [],
   "source": [
    "sns.boxplot(data=df, x='species', y='body_mass_g')"
   ]
  },
  {
   "cell_type": "markdown",
   "id": "6cb8f890",
   "metadata": {},
   "source": [
    "## Visualize the Tree"
   ]
  },
  {
   "cell_type": "code",
   "execution_count": null,
   "id": "8866be98",
   "metadata": {},
   "outputs": [],
   "source": [
    "from sklearn.tree import plot_tree"
   ]
  },
  {
   "cell_type": "code",
   "execution_count": null,
   "id": "60327197",
   "metadata": {},
   "outputs": [],
   "source": [
    "plt.figure(figsize=(12, 8), dpi=200)\n",
    "plot_tree(model, feature_names=X.columns, filled=True);"
   ]
  },
  {
   "cell_type": "markdown",
   "id": "e8eb647b",
   "metadata": {},
   "source": [
    "## Reporting Model Results"
   ]
  },
  {
   "cell_type": "code",
   "execution_count": null,
   "id": "156e2ae5",
   "metadata": {},
   "outputs": [],
   "source": [
    "def report_model(model):\n",
    "    model_preds = model.predict(X_test)\n",
    "    print(classification_report(y_test, model_preds))\n",
    "    print('\\n')\n",
    "    plt.figure(figsize=(12, 8))\n",
    "    plot_tree(model, feature_names=X.columns, filled=True,);"
   ]
  },
  {
   "cell_type": "markdown",
   "id": "26b0099d",
   "metadata": {},
   "source": [
    "### Experiment with Max Depth"
   ]
  },
  {
   "cell_type": "code",
   "execution_count": null,
   "id": "77cc1d9e",
   "metadata": {},
   "outputs": [],
   "source": [
    "pruned_tree = DecisionTreeClassifier(max_depth=2)\n",
    "pruned_tree.fit(X_train, y_train)\n",
    "\n",
    "report_model(pruned_tree)"
   ]
  },
  {
   "cell_type": "markdown",
   "id": "d91154bd",
   "metadata": {},
   "source": [
    "### Experiment with Max Leaf Nodes"
   ]
  },
  {
   "cell_type": "code",
   "execution_count": null,
   "id": "5515790f",
   "metadata": {},
   "outputs": [],
   "source": [
    "max_leaf_tree = DecisionTreeClassifier(max_leaf_nodes=3)\n",
    "max_leaf_tree.fit(X_train, y_train)\n",
    "\n",
    "report_model(max_leaf_tree)"
   ]
  },
  {
   "cell_type": "markdown",
   "id": "ca527fcc",
   "metadata": {},
   "source": [
    "### Experimenting with Criterion"
   ]
  },
  {
   "cell_type": "code",
   "execution_count": null,
   "id": "851aa625",
   "metadata": {},
   "outputs": [],
   "source": [
    "entropy_tree = DecisionTreeClassifier(criterion='entropy')\n",
    "entropy_tree.fit(X_train, y_train)\n",
    "\n",
    "report_model(entropy_tree)"
   ]
  }
 ],
 "metadata": {
  "kernelspec": {
   "display_name": "Python 3 (ipykernel)",
   "language": "python",
   "name": "python3"
  },
  "language_info": {
   "codemirror_mode": {
    "name": "ipython",
    "version": 3
   },
   "file_extension": ".py",
   "mimetype": "text/x-python",
   "name": "python",
   "nbconvert_exporter": "python",
   "pygments_lexer": "ipython3",
   "version": "3.10.9"
  }
 },
 "nbformat": 4,
 "nbformat_minor": 5
}
