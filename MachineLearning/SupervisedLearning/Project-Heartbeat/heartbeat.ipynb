{
 "cells": [
  {
   "cell_type": "markdown",
   "id": "8e158548",
   "metadata": {},
   "source": [
    "# Heartbeat Project"
   ]
  },
  {
   "cell_type": "markdown",
   "id": "82ef6e1e",
   "metadata": {},
   "source": [
    "## About the project\n",
    "\n",
    "This project is about creating a Classification Model that can predict whether or not a person has presence of heart disease based on physical features of that person (age,sex, cholesterol, etc...)"
   ]
  },
  {
   "cell_type": "markdown",
   "id": "d96f667f",
   "metadata": {},
   "source": [
    "## About the data\n",
    "\n",
    "This database contains 14 physical attributes based on physical testing of a patient. Blood samples are taken and the patient also conducts a brief exercise test. The \"goal\" field refers to the presence of heart disease in the patient. It is integer (0 for no presence, 1 for presence). In general, to confirm 100% if a patient has heart disease can be quite an invasive process, so if we can create a model that accurately predicts the likelihood of heart disease, we can help avoid expensive and invasive procedures.\n",
    "\n",
    "Attribute Information:\n",
    "\n",
    "- age\n",
    "- sex\n",
    "- chest pain type (4 values)\n",
    "- resting blood pressure\n",
    "- serum cholestoral in mg/dl\n",
    "- fasting blood sugar > 120 mg/dl\n",
    "- resting electrocardiographic results (values 0,1,2)\n",
    "- maximum heart rate achieved\n",
    "- exercise induced angina\n",
    "- oldpeak = ST depression induced by exercise relative to rest\n",
    "- the slope of the peak exercise ST segment\n",
    "- number of major vessels (0-3) colored by flourosopy\n",
    "- thal: 3 = normal; 6 = fixed defect; 7 = reversable defect\n",
    "- target:0 for no presence of heart disease, 1 for presence of heart disease"
   ]
  },
  {
   "cell_type": "markdown",
   "id": "2439270a",
   "metadata": {},
   "source": [
    "## Solution"
   ]
  },
  {
   "cell_type": "code",
   "execution_count": null,
   "id": "d6602c5e",
   "metadata": {},
   "outputs": [],
   "source": [
    "import pandas as pd\n",
    "import matplotlib.pyplot as plt\n",
    "import seaborn as sns"
   ]
  },
  {
   "cell_type": "markdown",
   "id": "48b5d6b6",
   "metadata": {},
   "source": [
    "### Part 1: Manipulating and displaying data"
   ]
  },
  {
   "cell_type": "markdown",
   "id": "62176799",
   "metadata": {},
   "source": [
    "### Exploratory Data Analysis and Visualization"
   ]
  },
  {
   "cell_type": "code",
   "execution_count": null,
   "id": "9606d1e9",
   "metadata": {},
   "outputs": [],
   "source": [
    "df = pd.read_csv('heart.csv')\n",
    "df.head()"
   ]
  },
  {
   "cell_type": "code",
   "execution_count": null,
   "id": "30855d06",
   "metadata": {},
   "outputs": [],
   "source": [
    "df['target'].unique()"
   ]
  },
  {
   "cell_type": "code",
   "execution_count": null,
   "id": "bb2333c1",
   "metadata": {},
   "outputs": [],
   "source": [
    "df.info()"
   ]
  },
  {
   "cell_type": "code",
   "execution_count": null,
   "id": "82bc5e6b",
   "metadata": {},
   "outputs": [],
   "source": [
    "df.describe().transpose()"
   ]
  },
  {
   "cell_type": "code",
   "execution_count": null,
   "id": "7b6d2563",
   "metadata": {},
   "outputs": [],
   "source": [
    "sns.countplot(data=df, x='target')"
   ]
  },
  {
   "cell_type": "code",
   "execution_count": null,
   "id": "72cb08b9",
   "metadata": {},
   "outputs": [],
   "source": [
    "sns.pairplot(df[['age', 'trestbps', 'chol', 'thalach', 'target']], hue='target')"
   ]
  },
  {
   "cell_type": "markdown",
   "id": "fa5b43db",
   "metadata": {},
   "source": [
    "Display the correlation between the columns in a heatmap"
   ]
  },
  {
   "cell_type": "code",
   "execution_count": null,
   "id": "d55bf668",
   "metadata": {},
   "outputs": [],
   "source": [
    "plt.figure(figsize=(12, 8))\n",
    "sns.heatmap(df.corr(), cmap='viridis', annot=True)"
   ]
  },
  {
   "cell_type": "markdown",
   "id": "f6d60e21",
   "metadata": {},
   "source": [
    "### Part 2: Machine Learning"
   ]
  },
  {
   "cell_type": "markdown",
   "id": "ba7b00e6",
   "metadata": {},
   "source": [
    "### Train and Test Splits"
   ]
  },
  {
   "cell_type": "code",
   "execution_count": null,
   "id": "19274597",
   "metadata": {},
   "outputs": [],
   "source": [
    "from sklearn.model_selection import train_test_split"
   ]
  },
  {
   "cell_type": "code",
   "execution_count": null,
   "id": "7d5dd903",
   "metadata": {},
   "outputs": [],
   "source": [
    "X = df.drop('target', axis=1)\n",
    "y = df['target']"
   ]
  },
  {
   "cell_type": "code",
   "execution_count": null,
   "id": "044bae98",
   "metadata": {},
   "outputs": [],
   "source": [
    "X_train, X_test, y_train, y_test = train_test_split(X, y, test_size=0.1, random_state=99)"
   ]
  },
  {
   "cell_type": "markdown",
   "id": "76eef090",
   "metadata": {},
   "source": [
    "### Scaling the data"
   ]
  },
  {
   "cell_type": "code",
   "execution_count": null,
   "id": "c528a5ca",
   "metadata": {},
   "outputs": [],
   "source": [
    "from sklearn.preprocessing import StandardScaler"
   ]
  },
  {
   "cell_type": "code",
   "execution_count": null,
   "id": "582bfc98",
   "metadata": {},
   "outputs": [],
   "source": [
    "scaler = StandardScaler()"
   ]
  },
  {
   "cell_type": "code",
   "execution_count": null,
   "id": "90f3b59a",
   "metadata": {},
   "outputs": [],
   "source": [
    "scaled_X_train = scaler.fit_transform(X_train)\n",
    "scaled_X_test = scaler.transform(X_test)"
   ]
  },
  {
   "cell_type": "markdown",
   "id": "60964576",
   "metadata": {},
   "source": [
    "### Creating the model"
   ]
  },
  {
   "cell_type": "markdown",
   "id": "39bd7d69",
   "metadata": {},
   "source": [
    "Let's create a Logistic Regression model and use cross-validation to find a well-performing C value for the hyper-parameter search"
   ]
  },
  {
   "cell_type": "code",
   "execution_count": null,
   "id": "4447efbe",
   "metadata": {},
   "outputs": [],
   "source": [
    "from sklearn.linear_model import LogisticRegressionCV "
   ]
  },
  {
   "cell_type": "code",
   "execution_count": null,
   "id": "2babb7a3",
   "metadata": {},
   "outputs": [],
   "source": [
    "log_model = LogisticRegressionCV()"
   ]
  },
  {
   "cell_type": "code",
   "execution_count": null,
   "id": "94ce014a",
   "metadata": {},
   "outputs": [],
   "source": [
    "log_model.fit(scaled_X_train, y_train)"
   ]
  },
  {
   "cell_type": "code",
   "execution_count": null,
   "id": "dc1d2946",
   "metadata": {},
   "outputs": [],
   "source": [
    "log_model.C_"
   ]
  },
  {
   "cell_type": "code",
   "execution_count": null,
   "id": "2dc6fd70",
   "metadata": {},
   "outputs": [],
   "source": [
    "log_model.get_params()"
   ]
  },
  {
   "cell_type": "markdown",
   "id": "0702c7a0",
   "metadata": {},
   "source": [
    "#### Coeffecients"
   ]
  },
  {
   "cell_type": "code",
   "execution_count": null,
   "id": "7cdc7f99",
   "metadata": {},
   "outputs": [],
   "source": [
    "log_model.coef_"
   ]
  },
  {
   "cell_type": "markdown",
   "id": "bb5c384c",
   "metadata": {},
   "source": [
    "Let's also visualize the coeffiecients"
   ]
  },
  {
   "cell_type": "code",
   "execution_count": null,
   "id": "e20afc88",
   "metadata": {},
   "outputs": [],
   "source": [
    "coefs = pd.Series(data=log_model.coef_[0], index=X.columns)\n",
    "coefs = coefs.sort_values()"
   ]
  },
  {
   "cell_type": "code",
   "execution_count": null,
   "id": "471206b5",
   "metadata": {},
   "outputs": [],
   "source": [
    "plt.figure(figsize=(10, 6))\n",
    "sns.barplot(x=coefs.index, y=coefs.values);"
   ]
  },
  {
   "cell_type": "markdown",
   "id": "5dcd43f7",
   "metadata": {},
   "source": [
    "### Model Performance"
   ]
  },
  {
   "cell_type": "code",
   "execution_count": null,
   "id": "f558cdc3",
   "metadata": {},
   "outputs": [],
   "source": [
    "from sklearn.metrics import confusion_matrix, classification_report, ConfusionMatrixDisplay"
   ]
  },
  {
   "cell_type": "markdown",
   "id": "c33d3acb",
   "metadata": {},
   "source": [
    "#### Predictions on the test data"
   ]
  },
  {
   "cell_type": "code",
   "execution_count": null,
   "id": "e3cd702f",
   "metadata": {},
   "outputs": [],
   "source": [
    "y_pred = log_model.predict(scaled_X_test)"
   ]
  },
  {
   "cell_type": "markdown",
   "id": "249f1bda",
   "metadata": {},
   "source": [
    "#### Confusion matrix"
   ]
  },
  {
   "cell_type": "code",
   "execution_count": null,
   "id": "b5621049",
   "metadata": {},
   "outputs": [],
   "source": [
    "cnf_matrix = confusion_matrix(y_test, y_pred)\n",
    "cnf_matrix"
   ]
  },
  {
   "cell_type": "code",
   "execution_count": null,
   "id": "035632ff",
   "metadata": {},
   "outputs": [],
   "source": [
    "disp = ConfusionMatrixDisplay(confusion_matrix=cnf_matrix)\n",
    "disp.plot()"
   ]
  },
  {
   "cell_type": "markdown",
   "id": "33633d05",
   "metadata": {},
   "source": [
    "#### Classification report"
   ]
  },
  {
   "cell_type": "code",
   "execution_count": null,
   "id": "78473063",
   "metadata": {},
   "outputs": [],
   "source": [
    "print(classification_report(y_test, y_pred))"
   ]
  },
  {
   "cell_type": "markdown",
   "id": "24c4b5e8",
   "metadata": {},
   "source": [
    "### Part 3: Future prediction results"
   ]
  },
  {
   "cell_type": "markdown",
   "id": "600e65f6",
   "metadata": {},
   "source": [
    "What does our model predicts for this patient? Do they have heart disease? How \"sure\" is our model of this prediction?"
   ]
  },
  {
   "cell_type": "markdown",
   "id": "eccea2c3",
   "metadata": {},
   "source": [
    "A patient with the following features has come into the medical office"
   ]
  },
  {
   "cell_type": "code",
   "execution_count": null,
   "id": "672b76f7",
   "metadata": {},
   "outputs": [],
   "source": [
    "patient = [[54., 1., 0., 122., 286., 0., 0., 116., 1., 3.2, 1., 2., 2.]]"
   ]
  },
  {
   "cell_type": "code",
   "execution_count": null,
   "id": "713430fe",
   "metadata": {},
   "outputs": [],
   "source": [
    "X_test.iloc[-1]"
   ]
  },
  {
   "cell_type": "code",
   "execution_count": null,
   "id": "e409f51e",
   "metadata": {},
   "outputs": [],
   "source": [
    "y_test.iloc[-1]"
   ]
  },
  {
   "cell_type": "code",
   "execution_count": null,
   "id": "38fc4b6b",
   "metadata": {},
   "outputs": [],
   "source": [
    "log_model.predict(patient)"
   ]
  },
  {
   "cell_type": "code",
   "execution_count": null,
   "id": "d799cc31",
   "metadata": {},
   "outputs": [],
   "source": [
    "log_model.predict_proba(patient)"
   ]
  }
 ],
 "metadata": {
  "kernelspec": {
   "display_name": "Python 3 (ipykernel)",
   "language": "python",
   "name": "python3"
  },
  "language_info": {
   "codemirror_mode": {
    "name": "ipython",
    "version": 3
   },
   "file_extension": ".py",
   "mimetype": "text/x-python",
   "name": "python",
   "nbconvert_exporter": "python",
   "pygments_lexer": "ipython3",
   "version": "3.10.9"
  }
 },
 "nbformat": 4,
 "nbformat_minor": 5
}
