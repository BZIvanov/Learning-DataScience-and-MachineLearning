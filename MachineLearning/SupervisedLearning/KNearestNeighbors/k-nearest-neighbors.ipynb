{
 "cells": [
  {
   "cell_type": "markdown",
   "id": "8e158548",
   "metadata": {},
   "source": [
    "# K nearest neighbors"
   ]
  },
  {
   "cell_type": "code",
   "execution_count": null,
   "id": "a1c6f8e9",
   "metadata": {},
   "outputs": [],
   "source": [
    "import numpy as np\n",
    "import pandas as pd\n",
    "import matplotlib.pyplot as plt\n",
    "import seaborn as sns"
   ]
  },
  {
   "cell_type": "markdown",
   "id": "652995bf",
   "metadata": {},
   "source": [
    "## Exploratory Data Analysis and Visualization"
   ]
  },
  {
   "cell_type": "code",
   "execution_count": null,
   "id": "760e724b",
   "metadata": {},
   "outputs": [],
   "source": [
    "first_team = np.array([4.3,2.5,5.7,6.1,7.4,3.4,3.1,6.3,5.5,7.7,6.6,6.6,5.4,5.2,8.3,4.2,3,4.9,8.5,7.2,6.6,6.3,3.3,5.4,3.4,9.3,7.8,2.4,6.4,2.5,3.6,4.6,3.3,9.7,5,5.7,6.8,5.9,5,2.5,6.2,6.7,6.1,4.6,5.4,4.8,7.8,7.2,8.3,5,3.5,6.1,6.9,6.5,6.2,9.3,2.7,3.9,8.4,3.7,5,3.9,4.1,6.2,7.1,2.6,3.3,1.8,4.1,6.3])\n",
    "second_team = np.array([3.9,6.3,3.9,6.2,3.4,7.5,6.8,4.9,8.6,3.5,2.9,4.5,7.2,5.7,5.4,9.3,7.7,6.8,5.6,4.2,3.7,7.7,7.5,2.9,5.3,6.4,3.5,5.6,6.4,5,6.9,5.4,6.5,4.8,5.3,7.2,3.2,7.2,5.3,4.8,6.5,6.1,7.7,7.3,5.1,6.5,2.3,3.9,4.1,4.6,7.8,2.5,6,2.5,6.8,6.6,6.2,7.7,3.4,8.6,8.4,8.8,7.1,5.1,4.7,6.3,6.2,5,4,7.7])\n",
    "scoring_player = np.array([1,0,1,0,1,0,0,1,0,1,1,0,0,1,1,0,0,0,1,1,0,0,0,1,0,1,1,0,0,0,0,1,0,1,0,0,1,0,0,0,0,0,0,0,1,1,1,0,1,1,0,1,0,1,0,1,0,0,1,0,0,0,0,0,0,0,0,0,1,0])\n",
    "\n",
    "df = pd.DataFrame({'first_team': first_team, 'second_team': second_team, 'scoring_player': scoring_player})\n",
    "df.head()"
   ]
  },
  {
   "cell_type": "code",
   "execution_count": null,
   "id": "0001abc6",
   "metadata": {},
   "outputs": [],
   "source": [
    "sns.scatterplot(data=df, x='first_team', y='second_team', hue='scoring_player')"
   ]
  },
  {
   "cell_type": "markdown",
   "id": "eaf02f35",
   "metadata": {},
   "source": [
    "## Train and Test Data Splits "
   ]
  },
  {
   "cell_type": "code",
   "execution_count": null,
   "id": "0f30a04a",
   "metadata": {},
   "outputs": [],
   "source": [
    "from sklearn.model_selection import train_test_split"
   ]
  },
  {
   "cell_type": "code",
   "execution_count": null,
   "id": "e89df23b",
   "metadata": {},
   "outputs": [],
   "source": [
    "X = df.drop('scoring_player', axis=1)\n",
    "y = df['scoring_player']"
   ]
  },
  {
   "cell_type": "code",
   "execution_count": null,
   "id": "9067b729",
   "metadata": {},
   "outputs": [],
   "source": [
    "X_train, X_test, y_train, y_test = train_test_split(X, y, test_size=0.3, random_state=42)"
   ]
  },
  {
   "cell_type": "markdown",
   "id": "b11d3d1a",
   "metadata": {},
   "source": [
    "## Scaling Data"
   ]
  },
  {
   "cell_type": "code",
   "execution_count": null,
   "id": "c357109b",
   "metadata": {},
   "outputs": [],
   "source": [
    "from sklearn.preprocessing import StandardScaler"
   ]
  },
  {
   "cell_type": "code",
   "execution_count": null,
   "id": "34a9f4ff",
   "metadata": {},
   "outputs": [],
   "source": [
    "scaler = StandardScaler()"
   ]
  },
  {
   "cell_type": "code",
   "execution_count": null,
   "id": "878ebf99",
   "metadata": {},
   "outputs": [],
   "source": [
    "scaled_X_train = scaler.fit_transform(X_train)\n",
    "scaled_X_test = scaler.transform(X_test)"
   ]
  },
  {
   "cell_type": "markdown",
   "id": "fbd921fe",
   "metadata": {},
   "source": [
    "## Creating the model"
   ]
  },
  {
   "cell_type": "code",
   "execution_count": null,
   "id": "b158b88b",
   "metadata": {},
   "outputs": [],
   "source": [
    "from sklearn.neighbors import KNeighborsClassifier"
   ]
  },
  {
   "cell_type": "code",
   "execution_count": null,
   "id": "7942ecda",
   "metadata": {},
   "outputs": [],
   "source": [
    "model = KNeighborsClassifier(n_neighbors=1)"
   ]
  },
  {
   "cell_type": "code",
   "execution_count": null,
   "id": "0b5db6ee",
   "metadata": {},
   "outputs": [],
   "source": [
    "model.fit(scaled_X_train, y_train)"
   ]
  },
  {
   "cell_type": "markdown",
   "id": "14ef22a0",
   "metadata": {},
   "source": [
    "## Predictions on the test data"
   ]
  },
  {
   "cell_type": "code",
   "execution_count": null,
   "id": "bdb3b3e3",
   "metadata": {},
   "outputs": [],
   "source": [
    "y_pred = model.predict(scaled_X_test)"
   ]
  },
  {
   "cell_type": "markdown",
   "id": "90db206f",
   "metadata": {},
   "source": [
    "## Choosing K Value"
   ]
  },
  {
   "cell_type": "code",
   "execution_count": null,
   "id": "23f289d3",
   "metadata": {},
   "outputs": [],
   "source": [
    "full_test = pd.concat([X_test, y_test], axis=1)"
   ]
  },
  {
   "cell_type": "code",
   "execution_count": null,
   "id": "761a3231",
   "metadata": {},
   "outputs": [],
   "source": [
    "len(full_test)"
   ]
  },
  {
   "cell_type": "code",
   "execution_count": null,
   "id": "7d41c138",
   "metadata": {},
   "outputs": [],
   "source": [
    "sns.scatterplot(data=full_test, x='first_team', y='second_team', hue='scoring_player')"
   ]
  },
  {
   "cell_type": "markdown",
   "id": "177958f4",
   "metadata": {},
   "source": [
    "## Model Performance"
   ]
  },
  {
   "cell_type": "code",
   "execution_count": null,
   "id": "7475cb48",
   "metadata": {},
   "outputs": [],
   "source": [
    "from sklearn.metrics import classification_report, confusion_matrix, accuracy_score"
   ]
  },
  {
   "cell_type": "markdown",
   "id": "e2bc6af4",
   "metadata": {},
   "source": [
    "### Accuracy"
   ]
  },
  {
   "cell_type": "code",
   "execution_count": null,
   "id": "dd0b1644",
   "metadata": {},
   "outputs": [],
   "source": [
    "accuracy_score(y_test, y_pred)"
   ]
  },
  {
   "cell_type": "markdown",
   "id": "43c4a1e4",
   "metadata": {},
   "source": [
    "### Confusion matrix"
   ]
  },
  {
   "cell_type": "code",
   "execution_count": null,
   "id": "58d7a245",
   "metadata": {},
   "outputs": [],
   "source": [
    "confusion_matrix(y_test, y_pred)"
   ]
  },
  {
   "cell_type": "markdown",
   "id": "882aa60f",
   "metadata": {},
   "source": [
    "### Classification report"
   ]
  },
  {
   "cell_type": "code",
   "execution_count": null,
   "id": "07871298",
   "metadata": {},
   "outputs": [],
   "source": [
    "print(classification_report(y_test, y_pred))"
   ]
  },
  {
   "cell_type": "markdown",
   "id": "ccc1fc78",
   "metadata": {},
   "source": [
    "## Methods for choosing K value"
   ]
  },
  {
   "cell_type": "markdown",
   "id": "d60dcc4b",
   "metadata": {},
   "source": [
    "### Elbow method"
   ]
  },
  {
   "cell_type": "code",
   "execution_count": null,
   "id": "61517fd6",
   "metadata": {},
   "outputs": [],
   "source": [
    "test_error_rates = []\n",
    "\n",
    "for k in range(1, 15):\n",
    "    knn_model = KNeighborsClassifier(n_neighbors=k)\n",
    "    knn_model.fit(scaled_X_train, y_train) \n",
    "   \n",
    "    y_pred_test = knn_model.predict(scaled_X_test)\n",
    "    \n",
    "    test_error = 1 - accuracy_score(y_test, y_pred_test)\n",
    "    test_error_rates.append(test_error)"
   ]
  },
  {
   "cell_type": "code",
   "execution_count": null,
   "id": "c6dca077",
   "metadata": {},
   "outputs": [],
   "source": [
    "plt.figure(figsize=(10, 6))\n",
    "plt.plot(range(1, 15),test_error_rates, label='Test Error')\n",
    "plt.legend()\n",
    "plt.ylabel('Error Rate')\n",
    "plt.xlabel(\"K Value\")"
   ]
  },
  {
   "cell_type": "markdown",
   "id": "3584e4cc",
   "metadata": {},
   "source": [
    "### Full Cross Validation Grid Search method"
   ]
  },
  {
   "cell_type": "code",
   "execution_count": null,
   "id": "73dbbe9e",
   "metadata": {},
   "outputs": [],
   "source": [
    "scaler = StandardScaler()\n",
    "knn = KNeighborsClassifier()"
   ]
  },
  {
   "cell_type": "code",
   "execution_count": null,
   "id": "88c9b00f",
   "metadata": {},
   "outputs": [],
   "source": [
    "knn.get_params().keys()"
   ]
  },
  {
   "cell_type": "code",
   "execution_count": null,
   "id": "f6835764",
   "metadata": {},
   "outputs": [],
   "source": [
    "operations = [('scaler', scaler), ('knn', knn)]"
   ]
  },
  {
   "cell_type": "code",
   "execution_count": null,
   "id": "df7e704f",
   "metadata": {},
   "outputs": [],
   "source": [
    "from sklearn.pipeline import Pipeline"
   ]
  },
  {
   "cell_type": "code",
   "execution_count": null,
   "id": "c94bb694",
   "metadata": {},
   "outputs": [],
   "source": [
    "pipe = Pipeline(operations)"
   ]
  },
  {
   "cell_type": "code",
   "execution_count": null,
   "id": "f533e784",
   "metadata": {},
   "outputs": [],
   "source": [
    "from sklearn.model_selection import GridSearchCV"
   ]
  },
  {
   "cell_type": "code",
   "execution_count": null,
   "id": "374a291e",
   "metadata": {},
   "outputs": [],
   "source": [
    "k_values = list(range(1, 20))"
   ]
  },
  {
   "cell_type": "code",
   "execution_count": null,
   "id": "cab32880",
   "metadata": {},
   "outputs": [],
   "source": [
    "param_grid = {'knn__n_neighbors': k_values}"
   ]
  },
  {
   "cell_type": "code",
   "execution_count": null,
   "id": "51feaf84",
   "metadata": {},
   "outputs": [],
   "source": [
    "full_cv_classifier = GridSearchCV(pipe, param_grid, cv=5, scoring='accuracy')"
   ]
  },
  {
   "cell_type": "code",
   "execution_count": null,
   "id": "e1a691eb",
   "metadata": {},
   "outputs": [],
   "source": [
    "full_cv_classifier.fit(X_train, y_train)"
   ]
  },
  {
   "cell_type": "code",
   "execution_count": null,
   "id": "ad56cbea",
   "metadata": {},
   "outputs": [],
   "source": [
    "full_cv_classifier.best_estimator_.get_params()"
   ]
  },
  {
   "cell_type": "code",
   "execution_count": null,
   "id": "e7a4f84d",
   "metadata": {},
   "outputs": [],
   "source": [
    "full_cv_classifier.cv_results_['mean_test_score']"
   ]
  },
  {
   "cell_type": "code",
   "execution_count": null,
   "id": "3b4bc544",
   "metadata": {},
   "outputs": [],
   "source": [
    "scores = full_cv_classifier.cv_results_['mean_test_score']\n",
    "plt.plot(k_values, scores, 'o-')\n",
    "plt.xlabel(\"K\")\n",
    "plt.ylabel(\"Accuracy\")"
   ]
  },
  {
   "cell_type": "markdown",
   "id": "92da872f",
   "metadata": {},
   "source": [
    "## Final model evaluation"
   ]
  },
  {
   "cell_type": "code",
   "execution_count": null,
   "id": "2b130307",
   "metadata": {},
   "outputs": [],
   "source": [
    "full_pred = full_cv_classifier.predict(X_test)\n",
    "print(classification_report(y_test, full_pred))"
   ]
  }
 ],
 "metadata": {
  "kernelspec": {
   "display_name": "Python 3 (ipykernel)",
   "language": "python",
   "name": "python3"
  },
  "language_info": {
   "codemirror_mode": {
    "name": "ipython",
    "version": 3
   },
   "file_extension": ".py",
   "mimetype": "text/x-python",
   "name": "python",
   "nbconvert_exporter": "python",
   "pygments_lexer": "ipython3",
   "version": "3.10.9"
  }
 },
 "nbformat": 4,
 "nbformat_minor": 5
}
