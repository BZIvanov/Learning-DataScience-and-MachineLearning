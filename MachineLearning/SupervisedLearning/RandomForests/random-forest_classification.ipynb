{
 "cells": [
  {
   "cell_type": "markdown",
   "id": "8e158548",
   "metadata": {},
   "source": [
    "# Random Forest - Classification"
   ]
  },
  {
   "cell_type": "code",
   "execution_count": null,
   "id": "a1c6f8e9",
   "metadata": {},
   "outputs": [],
   "source": [
    "import pandas as pd\n",
    "import matplotlib.pyplot as plt"
   ]
  },
  {
   "cell_type": "markdown",
   "id": "58388423",
   "metadata": {},
   "source": [
    "## Exploratory Data Analysis and Visualization"
   ]
  },
  {
   "cell_type": "code",
   "execution_count": null,
   "id": "b84c0a26",
   "metadata": {},
   "outputs": [],
   "source": [
    "df = pd.read_csv(\"penguins_size.csv\")\n",
    "df = df.dropna()\n",
    "df.head()"
   ]
  },
  {
   "cell_type": "markdown",
   "id": "82d9123d",
   "metadata": {},
   "source": [
    "## Train and Test splits"
   ]
  },
  {
   "cell_type": "code",
   "execution_count": null,
   "id": "a21d7c1c",
   "metadata": {},
   "outputs": [],
   "source": [
    "from sklearn.model_selection import train_test_split"
   ]
  },
  {
   "cell_type": "code",
   "execution_count": null,
   "id": "6d2c0608",
   "metadata": {},
   "outputs": [],
   "source": [
    "X = pd.get_dummies(df.drop('species', axis=1), drop_first=True)\n",
    "y = df['species']"
   ]
  },
  {
   "cell_type": "code",
   "execution_count": null,
   "id": "d1325d56",
   "metadata": {},
   "outputs": [],
   "source": [
    "X_train, X_test, y_train, y_test = train_test_split(X, y, test_size=0.3, random_state=42)"
   ]
  },
  {
   "cell_type": "markdown",
   "id": "37993f56",
   "metadata": {},
   "source": [
    "## Creating the model"
   ]
  },
  {
   "cell_type": "code",
   "execution_count": null,
   "id": "32affab6",
   "metadata": {},
   "outputs": [],
   "source": [
    "from sklearn.ensemble import RandomForestClassifier"
   ]
  },
  {
   "cell_type": "code",
   "execution_count": null,
   "id": "51b3dd3d",
   "metadata": {},
   "outputs": [],
   "source": [
    "model = RandomForestClassifier(n_estimators=10, random_state=42)\n",
    "model.fit(X_train, y_train)"
   ]
  },
  {
   "cell_type": "markdown",
   "id": "98f0a202",
   "metadata": {},
   "source": [
    "## Predictions on the test data"
   ]
  },
  {
   "cell_type": "code",
   "execution_count": null,
   "id": "375dcd0c",
   "metadata": {},
   "outputs": [],
   "source": [
    "y_pred = model.predict(X_test)"
   ]
  },
  {
   "cell_type": "markdown",
   "id": "bfecc77a",
   "metadata": {},
   "source": [
    "## Model Performance"
   ]
  },
  {
   "cell_type": "code",
   "execution_count": null,
   "id": "9d11f270",
   "metadata": {},
   "outputs": [],
   "source": [
    "from sklearn.metrics import confusion_matrix, classification_report, accuracy_score, ConfusionMatrixDisplay"
   ]
  },
  {
   "cell_type": "markdown",
   "id": "27833f59",
   "metadata": {},
   "source": [
    "### Confusion matrix"
   ]
  },
  {
   "cell_type": "code",
   "execution_count": null,
   "id": "9ec834b4",
   "metadata": {},
   "outputs": [],
   "source": [
    "cnf_matrix = confusion_matrix(y_test, y_pred)\n",
    "cnf_matrix"
   ]
  },
  {
   "cell_type": "code",
   "execution_count": null,
   "id": "9c641ef9",
   "metadata": {},
   "outputs": [],
   "source": [
    "disp = ConfusionMatrixDisplay(confusion_matrix=cnf_matrix)\n",
    "disp.plot()"
   ]
  },
  {
   "cell_type": "markdown",
   "id": "bfba5478",
   "metadata": {},
   "source": [
    "### Classification report"
   ]
  },
  {
   "cell_type": "code",
   "execution_count": null,
   "id": "be0d7397",
   "metadata": {},
   "outputs": [],
   "source": [
    "print(classification_report(y_test, y_pred))"
   ]
  },
  {
   "cell_type": "markdown",
   "id": "881e9942",
   "metadata": {},
   "source": [
    "## Feature Importances"
   ]
  },
  {
   "cell_type": "code",
   "execution_count": null,
   "id": "358a4a71",
   "metadata": {},
   "outputs": [],
   "source": [
    "model.feature_importances_"
   ]
  },
  {
   "cell_type": "markdown",
   "id": "28c21661",
   "metadata": {},
   "source": [
    "## Choosing correct number of trees"
   ]
  },
  {
   "cell_type": "code",
   "execution_count": null,
   "id": "c11c3ea8",
   "metadata": {},
   "outputs": [],
   "source": [
    "test_error = []\n",
    "\n",
    "for n in range(1, 40):\n",
    "    \n",
    "    model = RandomForestClassifier(n_estimators=n)\n",
    "    model.fit(X_train, y_train)\n",
    "    test_preds = model.predict(X_test)\n",
    "    test_error.append(1-accuracy_score(test_preds, y_test))"
   ]
  },
  {
   "cell_type": "code",
   "execution_count": null,
   "id": "5078b341",
   "metadata": {},
   "outputs": [],
   "source": [
    "plt.plot(range(1, 40), test_error, label='Test Error')\n",
    "plt.legend()"
   ]
  }
 ],
 "metadata": {
  "kernelspec": {
   "display_name": "Python 3 (ipykernel)",
   "language": "python",
   "name": "python3"
  },
  "language_info": {
   "codemirror_mode": {
    "name": "ipython",
    "version": 3
   },
   "file_extension": ".py",
   "mimetype": "text/x-python",
   "name": "python",
   "nbconvert_exporter": "python",
   "pygments_lexer": "ipython3",
   "version": "3.10.9"
  }
 },
 "nbformat": 4,
 "nbformat_minor": 5
}
