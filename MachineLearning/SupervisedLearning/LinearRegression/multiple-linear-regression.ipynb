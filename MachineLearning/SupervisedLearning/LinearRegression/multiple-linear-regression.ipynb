{
 "cells": [
  {
   "cell_type": "markdown",
   "id": "8e158548",
   "metadata": {},
   "source": [
    "# Multiple Linear Regression\n",
    "\n",
    "Linear Regression with more than 1 feature."
   ]
  },
  {
   "cell_type": "code",
   "execution_count": null,
   "id": "08a4cff6",
   "metadata": {},
   "outputs": [],
   "source": [
    "import numpy as np\n",
    "import pandas as pd\n",
    "import matplotlib.pyplot as plt\n",
    "import seaborn as sns"
   ]
  },
  {
   "cell_type": "markdown",
   "id": "b2a64bb6",
   "metadata": {},
   "source": [
    "## Exploratory Data Analysis and Visualization"
   ]
  },
  {
   "cell_type": "code",
   "execution_count": null,
   "id": "3caf7741",
   "metadata": {},
   "outputs": [],
   "source": [
    "tv = np.array([181,9,58,120,9,200,66,215,24,98,204,195,68,281,69,147,218,237,13,228,62,263,143,240,249])\n",
    "radio = np.array([11,49,33,20,2,3,6,24,35,8,33,48,37,40,21,24,28,5,16,17,13,4,29,17,27])\n",
    "newspaper = np.array([58,75,24,12,1,21,24,4,66,7,46,53,114,56,18,19,53,24,50,26,18,20,13,23,23])\n",
    "sales = np.array([13,7,12,13,5,11,9,17,9,10,19,22,13,24,11,15,18,13,6,16,10,12,15,16,19])\n",
    "\n",
    "df = pd.DataFrame({'tv': tv, 'radio': radio, 'newspaper': newspaper, 'sales': sales})\n",
    "df.head()"
   ]
  },
  {
   "cell_type": "code",
   "execution_count": null,
   "id": "349aad30",
   "metadata": {
    "scrolled": true
   },
   "outputs": [],
   "source": [
    "fig, axes = plt.subplots(nrows=1, ncols=3, figsize=(16, 6))\n",
    "\n",
    "axes[0].plot(df['tv'], df['sales'], 'o')\n",
    "axes[0].set_title(\"TV Spend\")\n",
    "axes[0].set_ylabel(\"Sales\")\n",
    "\n",
    "axes[1].plot(df['radio'], df['sales'], 'o')\n",
    "axes[1].set_title(\"Radio Spend\")\n",
    "axes[1].set_ylabel(\"Sales\")\n",
    "\n",
    "axes[2].plot(df['newspaper'], df['sales'], 'o')\n",
    "axes[2].set_title(\"Newspaper Spend\");\n",
    "axes[2].set_ylabel(\"Sales\")\n",
    "\n",
    "plt.tight_layout();"
   ]
  },
  {
   "cell_type": "markdown",
   "id": "5bc5846e",
   "metadata": {},
   "source": [
    "## Train and Test Splits"
   ]
  },
  {
   "cell_type": "code",
   "execution_count": null,
   "id": "693abe9b",
   "metadata": {},
   "outputs": [],
   "source": [
    "from sklearn.model_selection import train_test_split"
   ]
  },
  {
   "cell_type": "code",
   "execution_count": null,
   "id": "66e19835",
   "metadata": {},
   "outputs": [],
   "source": [
    "# note it is capital X\n",
    "X = df.drop('sales', axis=1) # get only features columns, independent variables\n",
    "y = df['sales'] # get only label column, dependent variable"
   ]
  },
  {
   "cell_type": "markdown",
   "id": "61436333",
   "metadata": {},
   "source": [
    "With test_size=0.3 we are sending 30% of our data in the `Test split`, the other 70% will be for the `Train split`\n",
    "\n",
    "After providing the data to the model, the data will be shuffled in random order, that is why we need random_state, to have control over the randomness. The data is shuffled, because it is usually sorted by one of the columns and we don't want the first 70% to be used as train split and the other 30% for test split for sorted data."
   ]
  },
  {
   "cell_type": "code",
   "execution_count": null,
   "id": "c747c476",
   "metadata": {},
   "outputs": [],
   "source": [
    "X_train, X_test, y_train, y_test = train_test_split(X, y, test_size=0.3, random_state=99)\n",
    "\n",
    "print(len(X_train))\n",
    "print(len(X_test))"
   ]
  },
  {
   "cell_type": "markdown",
   "id": "fc5941f5",
   "metadata": {},
   "source": [
    "## Creating the model"
   ]
  },
  {
   "cell_type": "code",
   "execution_count": null,
   "id": "b43146fd",
   "metadata": {},
   "outputs": [],
   "source": [
    "from sklearn.linear_model import LinearRegression"
   ]
  },
  {
   "cell_type": "code",
   "execution_count": null,
   "id": "3b8ebafb",
   "metadata": {},
   "outputs": [],
   "source": [
    "model = LinearRegression()"
   ]
  },
  {
   "cell_type": "code",
   "execution_count": null,
   "id": "507eab73",
   "metadata": {},
   "outputs": [],
   "source": [
    "model.fit(X_train, y_train)"
   ]
  },
  {
   "cell_type": "markdown",
   "id": "2a1d5509",
   "metadata": {},
   "source": [
    "## Predictions on the test data"
   ]
  },
  {
   "cell_type": "code",
   "execution_count": null,
   "id": "220a9dbd",
   "metadata": {},
   "outputs": [],
   "source": [
    "# The model predicts its own y hat\n",
    "# We can then compare these results to the true y test label value\n",
    "y_pred = model.predict(X_test)\n",
    "y_pred"
   ]
  },
  {
   "cell_type": "markdown",
   "id": "42751e60",
   "metadata": {},
   "source": [
    "## Model Performance"
   ]
  },
  {
   "cell_type": "code",
   "execution_count": null,
   "id": "07077243",
   "metadata": {},
   "outputs": [],
   "source": [
    "from sklearn.metrics import mean_absolute_error, mean_squared_error"
   ]
  },
  {
   "cell_type": "code",
   "execution_count": null,
   "id": "1e120f32",
   "metadata": {},
   "outputs": [],
   "source": [
    "MAE = mean_absolute_error(y_test, y_pred)\n",
    "MSE = mean_squared_error(y_test, y_pred)\n",
    "RMSE = np.sqrt(MSE)"
   ]
  },
  {
   "cell_type": "code",
   "execution_count": null,
   "id": "f5be1fc7",
   "metadata": {},
   "outputs": [],
   "source": [
    "print(MAE)\n",
    "print(MSE)\n",
    "print(RMSE)\n",
    "print(df['sales'].mean())"
   ]
  },
  {
   "cell_type": "code",
   "execution_count": null,
   "id": "85043b7c",
   "metadata": {},
   "outputs": [],
   "source": [
    "sns.histplot(data=df, x='sales', bins=10)"
   ]
  },
  {
   "cell_type": "markdown",
   "id": "985f1833",
   "metadata": {},
   "source": [
    "## Residuals"
   ]
  },
  {
   "cell_type": "markdown",
   "id": "cc03f848",
   "metadata": {},
   "source": [
    "It's also important to plot out residuals and check for normal distribution, this helps us understand if Linear Regression was a valid model choice."
   ]
  },
  {
   "cell_type": "code",
   "execution_count": null,
   "id": "8262ffc7",
   "metadata": {},
   "outputs": [],
   "source": [
    "test_residuals = y_test - y_pred"
   ]
  },
  {
   "cell_type": "markdown",
   "id": "35aed3fc",
   "metadata": {},
   "source": [
    "It looks like linear regression is a good choice for our data, because below we cannot see any patterns. The dots are randomly positioned below and above the red line"
   ]
  },
  {
   "cell_type": "code",
   "execution_count": null,
   "id": "4408f1de",
   "metadata": {},
   "outputs": [],
   "source": [
    "sns.scatterplot(x=y_test, y=test_residuals)\n",
    "plt.axhline(y=0, color='r', linestyle='--')"
   ]
  },
  {
   "cell_type": "code",
   "execution_count": null,
   "id": "1e615cac",
   "metadata": {},
   "outputs": [],
   "source": [
    "sns.displot(test_residuals, kde=True)"
   ]
  },
  {
   "cell_type": "code",
   "execution_count": null,
   "id": "16ff111e",
   "metadata": {},
   "outputs": [],
   "source": [
    "import scipy as sp"
   ]
  },
  {
   "cell_type": "code",
   "execution_count": null,
   "id": "67175bd1",
   "metadata": {},
   "outputs": [],
   "source": [
    "fig, ax = plt.subplots(figsize=(6, 8))\n",
    "_ = sp.stats.probplot(test_residuals, plot=ax)"
   ]
  },
  {
   "cell_type": "markdown",
   "id": "8a9183cb",
   "metadata": {},
   "source": [
    "## Retraining Model on Full Data\n",
    "\n",
    "If we are satisfied with the performance on the test data, before deploying our model to the real world, we should retrain on all our data. (If we were not satisfied, we could update parameters or choose another model)."
   ]
  },
  {
   "cell_type": "code",
   "execution_count": null,
   "id": "fefdae9a",
   "metadata": {},
   "outputs": [],
   "source": [
    "final_model = LinearRegression()\n",
    "final_model.fit(X, y)"
   ]
  },
  {
   "cell_type": "markdown",
   "id": "14908d8c",
   "metadata": {},
   "source": [
    "## Deployment, Predictions, and Model Attributes"
   ]
  },
  {
   "cell_type": "markdown",
   "id": "30ec1981",
   "metadata": {},
   "source": [
    "### Final Model Fit\n",
    "\n",
    "Note, we can only do this since we only have 3 features, for any more it becomes unreasonable."
   ]
  },
  {
   "cell_type": "code",
   "execution_count": null,
   "id": "0585d1dc",
   "metadata": {},
   "outputs": [],
   "source": [
    "y_hat = final_model.predict(X)"
   ]
  },
  {
   "cell_type": "code",
   "execution_count": null,
   "id": "618d207e",
   "metadata": {},
   "outputs": [],
   "source": [
    "fig,axes = plt.subplots(nrows=1, ncols=3, figsize=(16, 6))\n",
    "\n",
    "axes[0].plot(df['tv'], df['sales'], 'o')\n",
    "axes[0].plot(df['tv'], y_hat, 'o', color='red')\n",
    "axes[0].set_title(\"TV spend\")\n",
    "axes[0].set_ylabel(\"Sales\")\n",
    "\n",
    "axes[1].plot(df['radio'], df['sales'], 'o')\n",
    "axes[1].plot(df['radio'], y_hat, 'o', color='red')\n",
    "axes[1].set_title(\"Radio spend\")\n",
    "axes[1].set_ylabel(\"Sales\")\n",
    "\n",
    "axes[2].plot(df['newspaper'], df['sales'], 'o')\n",
    "axes[2].plot(df['radio'], y_hat, 'o', color='red')\n",
    "axes[2].set_title(\"Newspaper spend\");\n",
    "axes[2].set_ylabel(\"Sales\")\n",
    "\n",
    "plt.tight_layout();"
   ]
  },
  {
   "cell_type": "markdown",
   "id": "986bf992",
   "metadata": {},
   "source": [
    "### Residuals\n",
    "\n",
    "Should be normally distributed"
   ]
  },
  {
   "cell_type": "code",
   "execution_count": null,
   "id": "e1b8dfa6",
   "metadata": {},
   "outputs": [],
   "source": [
    "residuals = y_hat - y"
   ]
  },
  {
   "cell_type": "code",
   "execution_count": null,
   "id": "758f5ac2",
   "metadata": {},
   "outputs": [],
   "source": [
    "sns.scatterplot(x=y, y=residuals)\n",
    "plt.axhline(y=0, color='r', linestyle='--')"
   ]
  },
  {
   "cell_type": "markdown",
   "id": "f2d8647c",
   "metadata": {},
   "source": [
    "### Coefficients"
   ]
  },
  {
   "cell_type": "markdown",
   "id": "8baaa52c",
   "metadata": {},
   "source": [
    "Based on our model there is no relationship between spending on advertisement on newspaper and making bigger sale, actually we are going to lose if we do that, because we have negative coef.\n",
    "\n",
    "The coefs means that if we spend 1 unit on one of the advertisement channels we will have increase in sales with the value of the respective feature coef."
   ]
  },
  {
   "cell_type": "code",
   "execution_count": null,
   "id": "2577fb90",
   "metadata": {},
   "outputs": [],
   "source": [
    "final_model.coef_"
   ]
  },
  {
   "cell_type": "code",
   "execution_count": null,
   "id": "73733a08",
   "metadata": {},
   "outputs": [],
   "source": [
    "coeff_df = pd.DataFrame(final_model.coef_, X.columns, columns=['Coefficient'])\n",
    "coeff_df"
   ]
  },
  {
   "cell_type": "code",
   "execution_count": null,
   "id": "aa4935d3",
   "metadata": {},
   "outputs": [],
   "source": [
    "df.corr()"
   ]
  },
  {
   "cell_type": "markdown",
   "id": "bb0b5492",
   "metadata": {},
   "source": [
    "### Prediction on New Data\n",
    "\n",
    "Recall, X_test data set looks exactly the same as brand new data, so we simply need to call .predict() just as before to predict sales for a new advertising campaign.\n",
    "\n",
    "Our next ad campaign will have a total spend of 149 on TV, 22 on Radio, and 12 on Newspaper Ads, how many units could we expect to sell as a result of this? The answer is 14.11954608"
   ]
  },
  {
   "cell_type": "markdown",
   "id": "41d083ce",
   "metadata": {},
   "source": [
    "How accurate is this prediction 14.11954608? No real way to know! We only know truly know our model's performance on the test data, that is why we had to be satisfied by it first, before training our full model"
   ]
  },
  {
   "cell_type": "code",
   "execution_count": null,
   "id": "4bedc342",
   "metadata": {},
   "outputs": [],
   "source": [
    "ctv = np.array([149])\n",
    "cradio = np.array([22])\n",
    "cnewspaper = np.array([12])\n",
    "\n",
    "campaign = pd.DataFrame({'tv': ctv, 'radio': cradio, 'newspaper': cnewspaper})\n",
    "final_model.predict(campaign)"
   ]
  },
  {
   "cell_type": "markdown",
   "id": "b6f36fb3",
   "metadata": {},
   "source": [
    "## Model Persistence"
   ]
  },
  {
   "cell_type": "code",
   "execution_count": null,
   "id": "7f0260c6",
   "metadata": {},
   "outputs": [],
   "source": [
    "from joblib import dump, load"
   ]
  },
  {
   "cell_type": "markdown",
   "id": "d4639eb6",
   "metadata": {},
   "source": [
    "It will create a file with the model"
   ]
  },
  {
   "cell_type": "code",
   "execution_count": null,
   "id": "9f42d04a",
   "metadata": {},
   "outputs": [],
   "source": [
    "dump(final_model, 'sales_model.joblib') "
   ]
  },
  {
   "cell_type": "code",
   "execution_count": null,
   "id": "98b2a66c",
   "metadata": {},
   "outputs": [],
   "source": [
    "loaded_model = load('sales_model.joblib')"
   ]
  },
  {
   "cell_type": "code",
   "execution_count": null,
   "id": "d61b3079",
   "metadata": {},
   "outputs": [],
   "source": [
    "loaded_model.predict(campaign)"
   ]
  }
 ],
 "metadata": {
  "kernelspec": {
   "display_name": "Python 3 (ipykernel)",
   "language": "python",
   "name": "python3"
  },
  "language_info": {
   "codemirror_mode": {
    "name": "ipython",
    "version": 3
   },
   "file_extension": ".py",
   "mimetype": "text/x-python",
   "name": "python",
   "nbconvert_exporter": "python",
   "pygments_lexer": "ipython3",
   "version": "3.10.9"
  }
 },
 "nbformat": 4,
 "nbformat_minor": 5
}
