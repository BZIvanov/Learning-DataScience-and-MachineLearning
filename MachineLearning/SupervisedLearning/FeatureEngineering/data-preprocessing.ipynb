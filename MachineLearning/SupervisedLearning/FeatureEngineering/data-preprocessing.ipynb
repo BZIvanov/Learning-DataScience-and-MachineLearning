{
 "cells": [
  {
   "cell_type": "markdown",
   "id": "8e158548",
   "metadata": {},
   "source": [
    "# Data Preparation"
   ]
  },
  {
   "cell_type": "code",
   "execution_count": null,
   "id": "450e48f1",
   "metadata": {},
   "outputs": [],
   "source": [
    "import numpy as np\n",
    "import pandas as pd"
   ]
  },
  {
   "cell_type": "markdown",
   "id": "83f6ad7b",
   "metadata": {},
   "source": [
    "## The data"
   ]
  },
  {
   "cell_type": "code",
   "execution_count": null,
   "id": "1273b50e",
   "metadata": {
    "scrolled": true
   },
   "outputs": [],
   "source": [
    "data = {\n",
    "    'Country': ['France', 'Spain', 'Germany', 'Spain', 'Germany', 'France', 'Spain', 'France', 'Germany', 'France'],\n",
    "    'Age': [44, 27, 30, 38, 40, 35, None, 48, 50, 37],\n",
    "    'Salary': [72000, 48000, 54000, 61000, None, 58000, 52000, 79000, 83000, 87000],\n",
    "    'Purchased': ['No', 'Yes', 'No', 'No', 'Yes', 'Yes', 'No', 'Yes', 'No', 'Yes']\n",
    "}\n",
    "\n",
    "df = pd.DataFrame(data)\n",
    "df"
   ]
  },
  {
   "cell_type": "code",
   "execution_count": null,
   "id": "14375ee4",
   "metadata": {},
   "outputs": [],
   "source": [
    "X = df.iloc[:, :-1].values # all rows for all feature columns\n",
    "y = df.iloc[:, -1].values # all rows for label column\n",
    "print(X)\n",
    "print('---')\n",
    "print(y)"
   ]
  },
  {
   "cell_type": "markdown",
   "id": "af7c4e8b",
   "metadata": {},
   "source": [
    "## Dealing with missing values"
   ]
  },
  {
   "cell_type": "code",
   "execution_count": null,
   "id": "0444a475",
   "metadata": {},
   "outputs": [],
   "source": [
    "from sklearn.impute import SimpleImputer"
   ]
  },
  {
   "cell_type": "markdown",
   "id": "2e572836",
   "metadata": {},
   "source": [
    "For the second and third column we will replace the missing numbers with the mean value for the respective feature.\n",
    "\n",
    "In this example we are doing things using sklearn, but of course we could do it using just python, numpy and pandas if we want to."
   ]
  },
  {
   "cell_type": "code",
   "execution_count": null,
   "id": "77ed6449",
   "metadata": {},
   "outputs": [],
   "source": [
    "imputer = SimpleImputer(missing_values=np.nan, strategy='mean')\n",
    "imputer.fit(X[:, 1:3])\n",
    "X[:, 1:3] = imputer.transform(X[:, 1:3])\n",
    "print(X)"
   ]
  },
  {
   "cell_type": "markdown",
   "id": "eaa2da96",
   "metadata": {},
   "source": [
    "## Encoding categorical data"
   ]
  },
  {
   "cell_type": "markdown",
   "id": "145f9598",
   "metadata": {},
   "source": [
    "### Encoding the Features (Independent variable)"
   ]
  },
  {
   "cell_type": "code",
   "execution_count": null,
   "id": "cb503ceb",
   "metadata": {},
   "outputs": [],
   "source": [
    "from sklearn.compose import ColumnTransformer\n",
    "from sklearn.preprocessing import OneHotEncoder"
   ]
  },
  {
   "cell_type": "markdown",
   "id": "b03da109",
   "metadata": {},
   "source": [
    "Let's encode the Country column to numbers to have the data prepared for the machine learning model."
   ]
  },
  {
   "cell_type": "markdown",
   "id": "1f6c5c17",
   "metadata": {},
   "source": [
    "The reason we create 3 new columns where the current country is receiving value of 1 and the other 2 countries are with value 0 is to have equal columns.\n",
    "\n",
    "For example if we encode France=0, Germany=1 and Spain=2 and provide this data to the model it might expect, that Spain is more important or the data is have some kind of ranking. For that reason it is better and easier for models/algorithms to have all countries equally represented by value 1 for the country and value 0 for the other countries for the respective row."
   ]
  },
  {
   "cell_type": "code",
   "execution_count": null,
   "id": "c1672c50",
   "metadata": {},
   "outputs": [],
   "source": [
    "ct = ColumnTransformer(transformers=[('encoder', OneHotEncoder(), [0])], remainder='passthrough')\n",
    "X = np.array(ct.fit_transform(X))\n",
    "print(X)"
   ]
  },
  {
   "cell_type": "markdown",
   "id": "509e7cec",
   "metadata": {},
   "source": [
    "### Encoding the Label (Dependent variable)"
   ]
  },
  {
   "cell_type": "code",
   "execution_count": null,
   "id": "462934da",
   "metadata": {},
   "outputs": [],
   "source": [
    "from sklearn.preprocessing import LabelEncoder"
   ]
  },
  {
   "cell_type": "code",
   "execution_count": null,
   "id": "8898442c",
   "metadata": {},
   "outputs": [],
   "source": [
    "le = LabelEncoder()\n",
    "y = le.fit_transform(y)\n",
    "print(y)"
   ]
  },
  {
   "cell_type": "markdown",
   "id": "431da992",
   "metadata": {},
   "source": [
    "## Train and Test Splits"
   ]
  },
  {
   "cell_type": "code",
   "execution_count": null,
   "id": "e82ef383",
   "metadata": {},
   "outputs": [],
   "source": [
    "from sklearn.model_selection import train_test_split"
   ]
  },
  {
   "cell_type": "code",
   "execution_count": null,
   "id": "8c6fe242",
   "metadata": {},
   "outputs": [],
   "source": [
    "X_train, X_test, y_train, y_test = train_test_split(X, y, test_size=0.2, random_state=42)"
   ]
  },
  {
   "cell_type": "code",
   "execution_count": null,
   "id": "c7bddd72",
   "metadata": {},
   "outputs": [],
   "source": [
    "print(X_train)"
   ]
  },
  {
   "cell_type": "code",
   "execution_count": null,
   "id": "c3d29959",
   "metadata": {},
   "outputs": [],
   "source": [
    "print(X_test)"
   ]
  },
  {
   "cell_type": "code",
   "execution_count": null,
   "id": "087cdc5c",
   "metadata": {},
   "outputs": [],
   "source": [
    "print(y_train)"
   ]
  },
  {
   "cell_type": "code",
   "execution_count": null,
   "id": "b341a76f",
   "metadata": {},
   "outputs": [],
   "source": [
    "print(y_test)"
   ]
  },
  {
   "cell_type": "markdown",
   "id": "f06fc5aa",
   "metadata": {},
   "source": [
    "## Scaling the data"
   ]
  },
  {
   "cell_type": "markdown",
   "id": "d7694f35",
   "metadata": {},
   "source": [
    "We should scale the data after the train and test split, not before!"
   ]
  },
  {
   "cell_type": "code",
   "execution_count": null,
   "id": "89cde65e",
   "metadata": {},
   "outputs": [],
   "source": [
    "from sklearn.preprocessing import StandardScaler"
   ]
  },
  {
   "cell_type": "code",
   "execution_count": null,
   "id": "dde77ffe",
   "metadata": {},
   "outputs": [],
   "source": [
    "scaler = StandardScaler()"
   ]
  },
  {
   "cell_type": "markdown",
   "id": "b93347d2",
   "metadata": {},
   "source": [
    "Skip the first 3 column for the encoded countries values. They are already either 1 or 0 and scaling them will be actually bad, because we would not which country is which if we scale our 1's and 0's"
   ]
  },
  {
   "cell_type": "code",
   "execution_count": null,
   "id": "0884f840",
   "metadata": {},
   "outputs": [],
   "source": [
    "X_train[:, 3:] = scaler.fit_transform(X_train[:, 3:])\n",
    "X_test[:, 3:] = scaler.transform(X_test[:, 3:])"
   ]
  },
  {
   "cell_type": "code",
   "execution_count": null,
   "id": "efa76cc9",
   "metadata": {},
   "outputs": [],
   "source": [
    "print(X_train)"
   ]
  },
  {
   "cell_type": "code",
   "execution_count": null,
   "id": "99da2bc0",
   "metadata": {},
   "outputs": [],
   "source": [
    "print(X_test)"
   ]
  }
 ],
 "metadata": {
  "kernelspec": {
   "display_name": "Python 3 (ipykernel)",
   "language": "python",
   "name": "python3"
  },
  "language_info": {
   "codemirror_mode": {
    "name": "ipython",
    "version": 3
   },
   "file_extension": ".py",
   "mimetype": "text/x-python",
   "name": "python",
   "nbconvert_exporter": "python",
   "pygments_lexer": "ipython3",
   "version": "3.10.9"
  }
 },
 "nbformat": 4,
 "nbformat_minor": 5
}
