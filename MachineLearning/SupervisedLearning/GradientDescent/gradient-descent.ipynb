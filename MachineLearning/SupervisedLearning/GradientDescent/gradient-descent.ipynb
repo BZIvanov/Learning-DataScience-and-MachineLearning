{
 "cells": [
  {
   "cell_type": "markdown",
   "id": "1cd50142",
   "metadata": {},
   "source": [
    "# Gradient Descent - by hand implemetation"
   ]
  },
  {
   "cell_type": "markdown",
   "id": "5697c5d0",
   "metadata": {},
   "source": [
    "Gradient descent is an optimization algorithm widely used in machine learning to minimize the error or loss function of a model during the training process. The goal of gradient descent is to iteratively update the parameters of a model to find the optimal values that lead to the best possible performance on the given task."
   ]
  },
  {
   "cell_type": "code",
   "execution_count": null,
   "id": "fa78bf48",
   "metadata": {},
   "outputs": [],
   "source": [
    "import numpy as np \n",
    "import matplotlib.pyplot as plt"
   ]
  },
  {
   "cell_type": "markdown",
   "id": "85ffd564",
   "metadata": {},
   "source": [
    "Generate data"
   ]
  },
  {
   "cell_type": "code",
   "execution_count": null,
   "id": "723b0266",
   "metadata": {},
   "outputs": [],
   "source": [
    "X_line = np.arange(10)\n",
    "Y_line = (X_line - 5) ** 2 + 3 \n",
    "\n",
    "print(X_line)\n",
    "print(Y_line)"
   ]
  },
  {
   "cell_type": "code",
   "execution_count": null,
   "id": "f7c10c29",
   "metadata": {},
   "outputs": [],
   "source": [
    "plt.plot(X_line, Y_line)\n",
    "plt.show()"
   ]
  },
  {
   "cell_type": "markdown",
   "id": "4b7ba532",
   "metadata": {},
   "source": [
    "Here is reusable function with which we can plot the result for different values"
   ]
  },
  {
   "cell_type": "code",
   "execution_count": null,
   "id": "ce2b6e2a",
   "metadata": {},
   "outputs": [],
   "source": [
    "def plotGradientDescent(x_point, learn_rate):\n",
    "    # plot the line\n",
    "    plt.plot(X_line, Y_line)\n",
    "    \n",
    "    # plot the points\n",
    "    for i in range(15):\n",
    "        gradient = 2 * (x_point - 5)\n",
    "        x_point = x_point - learn_rate * gradient\n",
    "        y_point = (x_point - 5) ** 2 + 3\n",
    "        \n",
    "        plt.scatter(x_point, y_point)\n",
    "        print(x_point)\n",
    "\n",
    "    plt.show()"
   ]
  },
  {
   "cell_type": "markdown",
   "id": "0a9b72e3",
   "metadata": {},
   "source": [
    "Every next value is decreasing at slower rate, because slope is also more horizontal"
   ]
  },
  {
   "cell_type": "code",
   "execution_count": null,
   "id": "66e938b2",
   "metadata": {},
   "outputs": [],
   "source": [
    "plotGradientDescent(0, 0.1)"
   ]
  },
  {
   "cell_type": "markdown",
   "id": "962baa80",
   "metadata": {},
   "source": [
    "Here we will go in the back direction"
   ]
  },
  {
   "cell_type": "code",
   "execution_count": null,
   "id": "9f43d1f5",
   "metadata": {},
   "outputs": [],
   "source": [
    "plotGradientDescent(9, 0.1)"
   ]
  },
  {
   "cell_type": "markdown",
   "id": "a6635024",
   "metadata": {},
   "source": [
    "With faster **learning rate**, we will reach the **local minimum** faster"
   ]
  },
  {
   "cell_type": "code",
   "execution_count": null,
   "id": "ee6bee85",
   "metadata": {},
   "outputs": [],
   "source": [
    "plotGradientDescent(0, 0.2)"
   ]
  },
  {
   "cell_type": "markdown",
   "id": "a46650f8",
   "metadata": {},
   "source": [
    "And if the **learning rate** is high for our values, we will immediately reach the **local minimum**"
   ]
  },
  {
   "cell_type": "code",
   "execution_count": null,
   "id": "16b033e2",
   "metadata": {},
   "outputs": [],
   "source": [
    "plotGradientDescent(0, 0.5)"
   ]
  },
  {
   "cell_type": "markdown",
   "id": "ebd1714f",
   "metadata": {},
   "source": [
    "And if the **learning rate** is too high, we will get bad results. This is because our learning rate is bigger than the value between our starting point and the **local minimum**. So basically we passed the **local minimum** and landed on the other half of the slope"
   ]
  },
  {
   "cell_type": "code",
   "execution_count": null,
   "id": "d2379622",
   "metadata": {},
   "outputs": [],
   "source": [
    "plotGradientDescent(0, 1.5)"
   ]
  }
 ],
 "metadata": {
  "kernelspec": {
   "display_name": "Python 3 (ipykernel)",
   "language": "python",
   "name": "python3"
  },
  "language_info": {
   "codemirror_mode": {
    "name": "ipython",
    "version": 3
   },
   "file_extension": ".py",
   "mimetype": "text/x-python",
   "name": "python",
   "nbconvert_exporter": "python",
   "pygments_lexer": "ipython3",
   "version": "3.10.9"
  }
 },
 "nbformat": 4,
 "nbformat_minor": 5
}
