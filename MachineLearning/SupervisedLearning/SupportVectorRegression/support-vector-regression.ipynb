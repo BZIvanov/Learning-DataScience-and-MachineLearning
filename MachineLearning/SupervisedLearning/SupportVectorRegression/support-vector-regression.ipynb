{
 "cells": [
  {
   "cell_type": "markdown",
   "id": "8e158548",
   "metadata": {},
   "source": [
    "# Support Vector Regression"
   ]
  },
  {
   "cell_type": "code",
   "execution_count": null,
   "id": "d6602c5e",
   "metadata": {},
   "outputs": [],
   "source": [
    "import numpy as np\n",
    "import pandas as pd\n",
    "import matplotlib.pyplot as plt"
   ]
  },
  {
   "cell_type": "markdown",
   "id": "ba00a8f3",
   "metadata": {},
   "source": [
    "## Exploratory Data Analysis and Visualization"
   ]
  },
  {
   "cell_type": "code",
   "execution_count": null,
   "id": "9ae3c57c",
   "metadata": {},
   "outputs": [],
   "source": [
    "df = pd.read_csv('position-salaries.csv')\n",
    "X = df.iloc[:, 1:-1].values # get the numeric Feature column\n",
    "y = df.iloc[:, -1].values # get the Label column"
   ]
  },
  {
   "cell_type": "code",
   "execution_count": null,
   "id": "6a32ab69",
   "metadata": {},
   "outputs": [],
   "source": [
    "print(X)"
   ]
  },
  {
   "cell_type": "code",
   "execution_count": null,
   "id": "b43fa7e4",
   "metadata": {},
   "outputs": [],
   "source": [
    "print(y)"
   ]
  },
  {
   "cell_type": "markdown",
   "id": "4b7085bd",
   "metadata": {},
   "source": [
    "## Data Preprocessing"
   ]
  },
  {
   "cell_type": "markdown",
   "id": "b9befe66",
   "metadata": {},
   "source": [
    "We will convert our 1 dimensional array to be 2 dimenasional so we can apply scaling on the Label column.\n",
    "\n",
    "We want to apply scaling on the Label columns, because the type of the dataset we have, Level columns is ranking and Salary range of numbers."
   ]
  },
  {
   "cell_type": "code",
   "execution_count": null,
   "id": "1a01d345",
   "metadata": {},
   "outputs": [],
   "source": [
    "y = y.reshape(len(y), 1)\n",
    "\n",
    "print(y)"
   ]
  },
  {
   "cell_type": "markdown",
   "id": "9f36acd1",
   "metadata": {},
   "source": [
    "## Scaling the data"
   ]
  },
  {
   "cell_type": "code",
   "execution_count": null,
   "id": "3f677ffb",
   "metadata": {},
   "outputs": [],
   "source": [
    "from sklearn.preprocessing import StandardScaler"
   ]
  },
  {
   "cell_type": "code",
   "execution_count": null,
   "id": "ea054a16",
   "metadata": {},
   "outputs": [],
   "source": [
    "scaler_X = StandardScaler()\n",
    "scaler_y = StandardScaler()\n",
    "\n",
    "scaled_X = scaler_X.fit_transform(X)\n",
    "scaled_y = scaler_y.fit_transform(y)"
   ]
  },
  {
   "cell_type": "code",
   "execution_count": null,
   "id": "89c6d0e0",
   "metadata": {},
   "outputs": [],
   "source": [
    "print(scaled_X)"
   ]
  },
  {
   "cell_type": "code",
   "execution_count": null,
   "id": "074db4d9",
   "metadata": {},
   "outputs": [],
   "source": [
    "print(scaled_y)"
   ]
  },
  {
   "cell_type": "markdown",
   "id": "fe8d90bc",
   "metadata": {},
   "source": [
    "## Creating the model"
   ]
  },
  {
   "cell_type": "code",
   "execution_count": null,
   "id": "b1e4a842",
   "metadata": {},
   "outputs": [],
   "source": [
    "from sklearn.svm import SVR"
   ]
  },
  {
   "cell_type": "code",
   "execution_count": null,
   "id": "f429ae71",
   "metadata": {},
   "outputs": [],
   "source": [
    "model = SVR(kernel = 'rbf')\n",
    "model.fit(scaled_X, scaled_y.ravel())"
   ]
  },
  {
   "cell_type": "markdown",
   "id": "15bdcc13",
   "metadata": {},
   "source": [
    "## Predictions on the test data"
   ]
  },
  {
   "cell_type": "markdown",
   "id": "dc9b2af1",
   "metadata": {},
   "source": [
    "Here we will inverse scaler y to the original salaries so we can use them for the prediction.\n",
    "\n",
    "We can see that for Level 6.5 we predict Salary of 170370."
   ]
  },
  {
   "cell_type": "code",
   "execution_count": null,
   "id": "57155e27",
   "metadata": {},
   "outputs": [],
   "source": [
    "scaler_y.inverse_transform(model.predict(scaler_X.transform([[6.5]])).reshape(-1, 1))"
   ]
  },
  {
   "cell_type": "markdown",
   "id": "00ca28e3",
   "metadata": {},
   "source": [
    "## Visualize the results"
   ]
  },
  {
   "cell_type": "code",
   "execution_count": null,
   "id": "34f326c7",
   "metadata": {},
   "outputs": [],
   "source": [
    "plt.scatter(scaler_X.inverse_transform(scaled_X), scaler_y.inverse_transform(scaled_y), color = 'red')\n",
    "plt.plot(scaler_X.inverse_transform(scaled_X), scaler_y.inverse_transform(model.predict(scaled_X).reshape(-1, 1)), color = 'blue')\n",
    "plt.xlabel('Position level')\n",
    "plt.ylabel('Salary')\n",
    "plt.show()"
   ]
  },
  {
   "cell_type": "markdown",
   "id": "9a6c867c",
   "metadata": {},
   "source": [
    "### Smoother curve"
   ]
  },
  {
   "cell_type": "code",
   "execution_count": null,
   "id": "c953fea2",
   "metadata": {},
   "outputs": [],
   "source": [
    "X_grid = np.arange(min(scaler_X.inverse_transform(scaled_X)), max(scaler_X.inverse_transform(scaled_X)), 0.1)\n",
    "X_grid = X_grid.reshape((len(X_grid), 1))\n",
    "plt.scatter(scaler_X.inverse_transform(scaled_X), scaler_y.inverse_transform(scaled_y), color = 'red')\n",
    "plt.plot(X_grid, scaler_y.inverse_transform(model.predict(scaler_X.transform(X_grid)).reshape(-1, 1)), color = 'blue')\n",
    "plt.xlabel('Position level')\n",
    "plt.ylabel('Salary')\n",
    "plt.show()"
   ]
  }
 ],
 "metadata": {
  "kernelspec": {
   "display_name": "Python 3 (ipykernel)",
   "language": "python",
   "name": "python3"
  },
  "language_info": {
   "codemirror_mode": {
    "name": "ipython",
    "version": 3
   },
   "file_extension": ".py",
   "mimetype": "text/x-python",
   "name": "python",
   "nbconvert_exporter": "python",
   "pygments_lexer": "ipython3",
   "version": "3.10.9"
  }
 },
 "nbformat": 4,
 "nbformat_minor": 5
}
