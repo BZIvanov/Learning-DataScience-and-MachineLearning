{
 "cells": [
  {
   "cell_type": "markdown",
   "id": "8e158548",
   "metadata": {},
   "source": [
    "# Support Vector Machines"
   ]
  },
  {
   "cell_type": "code",
   "execution_count": null,
   "id": "a1c6f8e9",
   "metadata": {},
   "outputs": [],
   "source": [
    "import numpy as np\n",
    "import pandas as pd\n",
    "import matplotlib.pyplot as plt\n",
    "import seaborn as sns"
   ]
  },
  {
   "cell_type": "markdown",
   "id": "c19028ef",
   "metadata": {},
   "source": [
    "## Exploratory Data Analysis and Visualization"
   ]
  },
  {
   "cell_type": "code",
   "execution_count": null,
   "id": "760e724b",
   "metadata": {},
   "outputs": [],
   "source": [
    "first = np.array([6.5,4.1,6.4,3.7,1.6,2.2,8.2,8.7,6.8,3.0,1.7,2.0,4.1,3.6,3.1,8.4,6.2,7.3,7.5,3.3,6.9,3.0,9.1,7.1,6.7,6.7,4.0,3.4,2.8,7.7,8.6,9.4,6.2,8.4,3.3,7.2,1.8,3.5,4.0,3.0,7.5,6.3,4.1,8.1,7.9,2.3,3.2,3.4,3.3,2.6])\n",
    "second = np.array([8.6,3.1,6.4,4.9,2.4,2.7,7.3,6.2,6.6,4.6,3.5,3.4,3.1,3.7,4.9,8.1,7.9,7.2,6.7,4.5,7.2,1.6,8.3,9.0,6.2,8.5,5.7,3.5,3.2,8.1,6.9,7.4,5.7,6.2,2.6,8.3,3.0,4.7,3.5,3.5,8.3,8.6,4.3,7.1,7.9,4.0,4.2,3.6,6.5,2.3])\n",
    "score = np.array([0,1,0,1,1,1,0,0,0,1,1,1,1,1,1,0,0,0,0,1,0,1,0,0,0,0,1,1,1,0,0,0,0,0,1,0,1,1,1,1,0,0,1,0,0,1,1,1,1,1])\n",
    "\n",
    "df = pd.DataFrame({'first': first, 'second': second, 'score': score})\n",
    "df.head()"
   ]
  },
  {
   "cell_type": "code",
   "execution_count": null,
   "id": "2458e9a3",
   "metadata": {},
   "outputs": [],
   "source": [
    "sns.scatterplot(data=df, x='first', y='second', hue='score')"
   ]
  },
  {
   "cell_type": "markdown",
   "id": "bc50bc09",
   "metadata": {},
   "source": [
    "### Separating Hyperplane"
   ]
  },
  {
   "cell_type": "code",
   "execution_count": null,
   "id": "a739d22d",
   "metadata": {
    "scrolled": false
   },
   "outputs": [],
   "source": [
    "sns.scatterplot(data=df, x='first', y='second', hue='score')\n",
    "\n",
    "x = np.linspace(0, 10, 100)\n",
    "m = -1\n",
    "b = 11\n",
    "y = m * x + b\n",
    "plt.plot(x, y, 'black')"
   ]
  },
  {
   "cell_type": "markdown",
   "id": "aa54f2bc",
   "metadata": {},
   "source": [
    "## Train and Test Data Splits "
   ]
  },
  {
   "cell_type": "code",
   "execution_count": null,
   "id": "e94b7153",
   "metadata": {},
   "outputs": [],
   "source": [
    "from sklearn.model_selection import train_test_split"
   ]
  },
  {
   "cell_type": "code",
   "execution_count": null,
   "id": "12dc3de4",
   "metadata": {},
   "outputs": [],
   "source": [
    "X = df.drop('score', axis=1)\n",
    "y = df['score']"
   ]
  },
  {
   "cell_type": "code",
   "execution_count": null,
   "id": "df671cd3",
   "metadata": {},
   "outputs": [],
   "source": [
    "X_train, X_test, y_train, y_test = train_test_split(X, y, test_size=0.3, random_state=42)"
   ]
  },
  {
   "cell_type": "markdown",
   "id": "64423c0b",
   "metadata": {},
   "source": [
    "## Creating the model"
   ]
  },
  {
   "cell_type": "markdown",
   "id": "01686c30",
   "metadata": {},
   "source": [
    "Exploring the algortihm and finding what is the best separating line"
   ]
  },
  {
   "cell_type": "code",
   "execution_count": null,
   "id": "fbacbbd1",
   "metadata": {},
   "outputs": [],
   "source": [
    "from sklearn.svm import SVC # Support Vector Classifier"
   ]
  },
  {
   "cell_type": "code",
   "execution_count": null,
   "id": "16bb5657",
   "metadata": {},
   "outputs": [],
   "source": [
    "model = SVC(kernel='linear', C=1000)\n",
    "model.fit(X_train, y_train)"
   ]
  },
  {
   "cell_type": "code",
   "execution_count": null,
   "id": "17780f8d",
   "metadata": {},
   "outputs": [],
   "source": [
    "# our custom python file\n",
    "from svm_margin_plot import plot_svm_boundary"
   ]
  },
  {
   "cell_type": "code",
   "execution_count": null,
   "id": "8af85885",
   "metadata": {},
   "outputs": [],
   "source": [
    "plot_svm_boundary(model, X_train, y_train)"
   ]
  },
  {
   "cell_type": "markdown",
   "id": "9d65d1da",
   "metadata": {},
   "source": [
    "## Hyper Parameters\n",
    "\n",
    "#### C\n",
    "\n",
    "Regularization parameter. The strength of the regularization is **inversely** proportional to C. Must be strictly positive. The penalty is a squared l2 penalty."
   ]
  },
  {
   "cell_type": "markdown",
   "id": "d63db1a6",
   "metadata": {},
   "source": [
    "Let's see the things will look like with much smaller value for C"
   ]
  },
  {
   "cell_type": "code",
   "execution_count": null,
   "id": "98971f98",
   "metadata": {},
   "outputs": [],
   "source": [
    "model = SVC(kernel='linear', C=0.05)\n",
    "model.fit(X_train, y_train)"
   ]
  },
  {
   "cell_type": "code",
   "execution_count": null,
   "id": "15abb639",
   "metadata": {},
   "outputs": [],
   "source": [
    "plot_svm_boundary(model, X_train, y_train)"
   ]
  },
  {
   "cell_type": "markdown",
   "id": "c8976f1f",
   "metadata": {},
   "source": [
    "### rbf kernel\n",
    "\n",
    "When training an SVM with the Radial Basis Function (RBF) kernel, two parameters must be considered: C and gamma. The parameter C, common to all SVM kernels, trades off misclassification of training examples against simplicity of the decision surface. A low C makes the decision surface smooth, while a high C aims at classifying all training examples correctly. gamma defines how much influence a single training example has. The larger gamma is, the closer other examples must be to be affected."
   ]
  },
  {
   "cell_type": "code",
   "execution_count": null,
   "id": "59834bd4",
   "metadata": {},
   "outputs": [],
   "source": [
    "model = SVC(kernel='rbf', C=1)\n",
    "model.fit(X_train, y_train)\n",
    "plot_svm_boundary(model, X_train, y_train)"
   ]
  },
  {
   "cell_type": "code",
   "execution_count": null,
   "id": "5b47c108",
   "metadata": {},
   "outputs": [],
   "source": [
    "model = SVC(kernel='sigmoid')\n",
    "model.fit(X_train, y_train)\n",
    "plot_svm_boundary(model, X_train, y_train)"
   ]
  },
  {
   "cell_type": "code",
   "execution_count": null,
   "id": "87a7b216",
   "metadata": {},
   "outputs": [],
   "source": [
    "model = SVC(kernel='poly', C=1, degree=1)\n",
    "model.fit(X_train, y_train)\n",
    "plot_svm_boundary(model, X_train, y_train)"
   ]
  },
  {
   "cell_type": "code",
   "execution_count": null,
   "id": "0f7ebb39",
   "metadata": {},
   "outputs": [],
   "source": [
    "model = SVC(kernel='poly', C=1, degree=2)\n",
    "model.fit(X_train, y_train)\n",
    "plot_svm_boundary(model, X_train, y_train)"
   ]
  },
  {
   "cell_type": "code",
   "execution_count": null,
   "id": "4142a75d",
   "metadata": {},
   "outputs": [],
   "source": [
    "model = SVC(kernel='rbf', C=1, gamma=0.01)\n",
    "model.fit(X_train, y_train)\n",
    "plot_svm_boundary(model, X_train, y_train)"
   ]
  },
  {
   "cell_type": "markdown",
   "id": "586bb2fe",
   "metadata": {},
   "source": [
    "## Grid Search"
   ]
  },
  {
   "cell_type": "code",
   "execution_count": null,
   "id": "73f87497",
   "metadata": {},
   "outputs": [],
   "source": [
    "from sklearn.model_selection import GridSearchCV"
   ]
  },
  {
   "cell_type": "code",
   "execution_count": null,
   "id": "53d8851e",
   "metadata": {},
   "outputs": [],
   "source": [
    "svm = SVC()\n",
    "param_grid = {'C': [0.01, 0.1, 1], 'kernel': ['linear', 'rbf']}\n",
    "grid = GridSearchCV(svm, param_grid)"
   ]
  },
  {
   "cell_type": "code",
   "execution_count": null,
   "id": "90e0b729",
   "metadata": {},
   "outputs": [],
   "source": [
    "grid.fit(X_train, y_train)"
   ]
  },
  {
   "cell_type": "code",
   "execution_count": null,
   "id": "f67c81bd",
   "metadata": {},
   "outputs": [],
   "source": [
    "grid.best_score_"
   ]
  },
  {
   "cell_type": "code",
   "execution_count": null,
   "id": "faebd090",
   "metadata": {},
   "outputs": [],
   "source": [
    "grid.best_params_"
   ]
  }
 ],
 "metadata": {
  "kernelspec": {
   "display_name": "Python 3 (ipykernel)",
   "language": "python",
   "name": "python3"
  },
  "language_info": {
   "codemirror_mode": {
    "name": "ipython",
    "version": 3
   },
   "file_extension": ".py",
   "mimetype": "text/x-python",
   "name": "python",
   "nbconvert_exporter": "python",
   "pygments_lexer": "ipython3",
   "version": "3.10.9"
  }
 },
 "nbformat": 4,
 "nbformat_minor": 5
}
