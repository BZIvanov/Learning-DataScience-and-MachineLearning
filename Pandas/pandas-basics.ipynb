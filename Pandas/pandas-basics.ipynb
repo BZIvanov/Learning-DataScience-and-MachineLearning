{
 "cells": [
  {
   "cell_type": "code",
   "execution_count": 1,
   "id": "5ca24a35",
   "metadata": {},
   "outputs": [],
   "source": [
    "import numpy as np\n",
    "import pandas as pd"
   ]
  },
  {
   "cell_type": "code",
   "execution_count": 2,
   "id": "f6c8c1b7",
   "metadata": {},
   "outputs": [
    {
     "name": "stdout",
     "output_type": "stream",
     "text": [
      "USA       2000\n",
      "Canada    2001\n",
      "Mexico    2009\n",
      "dtype: int64\n",
      "2000\n",
      "2000\n"
     ]
    }
   ],
   "source": [
    "index_column = ['USA', 'Canada', 'Mexico']\n",
    "years_data_column = [2000, 2001, 2009]\n",
    "\n",
    "my_table = pd.Series(data=years_data_column, index=index_column)\n",
    "print(my_table)\n",
    "# Pandas tables also receive number index column\n",
    "print(my_table[0])\n",
    "print(my_table['USA'])"
   ]
  },
  {
   "cell_type": "code",
   "execution_count": 3,
   "id": "618c37a2",
   "metadata": {},
   "outputs": [
    {
     "name": "stdout",
     "output_type": "stream",
     "text": [
      "kiwi      5\n",
      "apple     2\n",
      "banana    3\n",
      "dtype: int64\n"
     ]
    }
   ],
   "source": [
    "fruits = {'kiwi': 5, 'apple': 2, 'banana': 3}\n",
    "print(pd.Series(fruits))"
   ]
  },
  {
   "cell_type": "code",
   "execution_count": 4,
   "id": "6d92b8f9",
   "metadata": {},
   "outputs": [],
   "source": [
    "list_one = {'Iva': 80, 'Georgi': 450, 'Mila': 200, 'Elena': 250}\n",
    "list_two = {'Miro': 100,'Georgi': 500, 'Iva': 210,'Jana': 260}\n",
    "\n",
    "incomes_one = pd.Series(list_one)\n",
    "incomes_two = pd.Series(list_two)"
   ]
  },
  {
   "cell_type": "code",
   "execution_count": 5,
   "id": "3291e63f",
   "metadata": {},
   "outputs": [
    {
     "data": {
      "text/plain": [
       "dict_keys(['Iva', 'Georgi', 'Mila', 'Elena'])"
      ]
     },
     "execution_count": 5,
     "metadata": {},
     "output_type": "execute_result"
    }
   ],
   "source": [
    "list_one.keys()"
   ]
  },
  {
   "cell_type": "code",
   "execution_count": 6,
   "id": "f8736d7a",
   "metadata": {},
   "outputs": [
    {
     "data": {
      "text/plain": [
       "Elena     250.0\n",
       "Georgi    950.0\n",
       "Iva       290.0\n",
       "Jana      260.0\n",
       "Mila      200.0\n",
       "Miro      100.0\n",
       "dtype: float64"
      ]
     },
     "execution_count": 6,
     "metadata": {},
     "output_type": "execute_result"
    }
   ],
   "source": [
    "# this way we can add the 2 tables and where a key is missing in one of the tables we will use 0 as default value\n",
    "# the result column is floating numbers after we used mathematical operation\n",
    "incomes_one.add(incomes_two, fill_value=0)"
   ]
  },
  {
   "cell_type": "markdown",
   "id": "96c04ef5",
   "metadata": {},
   "source": [
    "### Working with random data table"
   ]
  },
  {
   "cell_type": "code",
   "execution_count": 7,
   "id": "7916cd6f",
   "metadata": {},
   "outputs": [
    {
     "data": {
      "text/plain": [
       "array([[36, 32, 71],\n",
       "       [66, 13, 58],\n",
       "       [72, 18, 85],\n",
       "       [82, 11, 94]])"
      ]
     },
     "execution_count": 7,
     "metadata": {},
     "output_type": "execute_result"
    }
   ],
   "source": [
    "np.random.seed(199)\n",
    "my_data = np.random.randint(0, 101, (4, 3))\n",
    "my_data"
   ]
  },
  {
   "cell_type": "code",
   "execution_count": 8,
   "id": "8719a537",
   "metadata": {},
   "outputs": [],
   "source": [
    "my_index = ['Iva', 'Eli', 'Gosho', 'Ivan']\n",
    "my_columns = ['Q1', 'Q2', 'Q3']"
   ]
  },
  {
   "cell_type": "code",
   "execution_count": 9,
   "id": "3add0d19",
   "metadata": {},
   "outputs": [
    {
     "data": {
      "text/html": [
       "<div>\n",
       "<style scoped>\n",
       "    .dataframe tbody tr th:only-of-type {\n",
       "        vertical-align: middle;\n",
       "    }\n",
       "\n",
       "    .dataframe tbody tr th {\n",
       "        vertical-align: top;\n",
       "    }\n",
       "\n",
       "    .dataframe thead th {\n",
       "        text-align: right;\n",
       "    }\n",
       "</style>\n",
       "<table border=\"1\" class=\"dataframe\">\n",
       "  <thead>\n",
       "    <tr style=\"text-align: right;\">\n",
       "      <th></th>\n",
       "      <th>Q1</th>\n",
       "      <th>Q2</th>\n",
       "      <th>Q3</th>\n",
       "    </tr>\n",
       "  </thead>\n",
       "  <tbody>\n",
       "    <tr>\n",
       "      <th>Iva</th>\n",
       "      <td>36</td>\n",
       "      <td>32</td>\n",
       "      <td>71</td>\n",
       "    </tr>\n",
       "    <tr>\n",
       "      <th>Eli</th>\n",
       "      <td>66</td>\n",
       "      <td>13</td>\n",
       "      <td>58</td>\n",
       "    </tr>\n",
       "    <tr>\n",
       "      <th>Gosho</th>\n",
       "      <td>72</td>\n",
       "      <td>18</td>\n",
       "      <td>85</td>\n",
       "    </tr>\n",
       "    <tr>\n",
       "      <th>Ivan</th>\n",
       "      <td>82</td>\n",
       "      <td>11</td>\n",
       "      <td>94</td>\n",
       "    </tr>\n",
       "  </tbody>\n",
       "</table>\n",
       "</div>"
      ],
      "text/plain": [
       "       Q1  Q2  Q3\n",
       "Iva    36  32  71\n",
       "Eli    66  13  58\n",
       "Gosho  72  18  85\n",
       "Ivan   82  11  94"
      ]
     },
     "execution_count": 9,
     "metadata": {},
     "output_type": "execute_result"
    }
   ],
   "source": [
    "df = pd.DataFrame(my_data, index=my_index, columns = my_columns)\n",
    "df"
   ]
  },
  {
   "cell_type": "code",
   "execution_count": 10,
   "id": "54a513d5",
   "metadata": {},
   "outputs": [
    {
     "name": "stdout",
     "output_type": "stream",
     "text": [
      "<class 'pandas.core.frame.DataFrame'>\n",
      "Index: 4 entries, Iva to Ivan\n",
      "Data columns (total 3 columns):\n",
      " #   Column  Non-Null Count  Dtype\n",
      "---  ------  --------------  -----\n",
      " 0   Q1      4 non-null      int32\n",
      " 1   Q2      4 non-null      int32\n",
      " 2   Q3      4 non-null      int32\n",
      "dtypes: int32(3)\n",
      "memory usage: 80.0+ bytes\n"
     ]
    }
   ],
   "source": [
    "df.info()"
   ]
  }
 ],
 "metadata": {
  "kernelspec": {
   "display_name": "Python 3 (ipykernel)",
   "language": "python",
   "name": "python3"
  },
  "language_info": {
   "codemirror_mode": {
    "name": "ipython",
    "version": 3
   },
   "file_extension": ".py",
   "mimetype": "text/x-python",
   "name": "python",
   "nbconvert_exporter": "python",
   "pygments_lexer": "ipython3",
   "version": "3.10.9"
  }
 },
 "nbformat": 4,
 "nbformat_minor": 5
}
